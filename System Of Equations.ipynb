{
 "cells": [
  {
   "cell_type": "code",
   "execution_count": 0,
   "metadata": {
    "colab": {},
    "colab_type": "code",
    "id": "WPe2pHYMC4Cl"
   },
   "outputs": [],
   "source": [
    "import numpy as np\n",
    "import math\n",
    "import scipy as sc\n",
    "import pandas as pd\n",
    "np.set_printoptions(suppress=True)\n",
    "np.set_printoptions(precision=4)\n",
    "from pprint import pprint\n",
    "from numpy import array, zeros, diag, diagflat, dot"
   ]
  },
  {
   "cell_type": "code",
   "execution_count": 160,
   "metadata": {
    "colab": {
     "base_uri": "https://localhost:8080/",
     "height": 34
    },
    "colab_type": "code",
    "executionInfo": {
     "elapsed": 718,
     "status": "ok",
     "timestamp": 1538999575200,
     "user": {
      "displayName": "Smit Shah",
      "photoUrl": "",
      "userId": "16173470511499712428"
     },
     "user_tz": -330
    },
    "id": "uyrfXXWuENke",
    "outputId": "22e6442c-b20d-4fd9-b599-99d5975a12b8"
   },
   "outputs": [
    {
     "data": {
      "text/plain": [
       "array([-1, -2, -5, -2])"
      ]
     },
     "execution_count": 160,
     "metadata": {
      "tags": []
     },
     "output_type": "execute_result"
    }
   ],
   "source": [
    "mat = np.array([[1,2,3,1], [1,2,1,0]])\n",
    "[a,b] = mat.shape\n",
    "mat[1,] - 2*mat[0,]"
   ]
  },
  {
   "cell_type": "code",
   "execution_count": 0,
   "metadata": {
    "colab": {},
    "colab_type": "code",
    "id": "Nidf9bSZDGQu"
   },
   "outputs": [],
   "source": [
    "  def step(mat, ele):\n",
    "    [n,m] = mat.shape\n",
    "    for i in range(ele+1,n):\n",
    "      k = mat[i,ele]/mat[ele, ele]\n",
    "      mat[i,] = mat[i,] - (k*mat[ele,])\n",
    "    return mat\n",
    "  \n",
    "  def GEM(mat):\n",
    "    [n,m] = mat.shape\n",
    "    for ele in range(n-1):\n",
    "      mat = step(mat, ele)\n",
    "    print(mat,'\\n\\n')\n",
    "    print(sc.linalg.solve(mat[0:,:-1],mat[:,-1:]))                                         "
   ]
  },
  {
   "cell_type": "code",
   "execution_count": 162,
   "metadata": {
    "colab": {
     "base_uri": "https://localhost:8080/",
     "height": 156
    },
    "colab_type": "code",
    "executionInfo": {
     "elapsed": 1159,
     "status": "ok",
     "timestamp": 1538999578119,
     "user": {
      "displayName": "Smit Shah",
      "photoUrl": "",
      "userId": "16173470511499712428"
     },
     "user_tz": -330
    },
    "id": "4M77xqnXLaAO",
    "outputId": "eacf71df-ff37-40e6-9b73-20db78ec0810"
   },
   "outputs": [
    {
     "name": "stdout",
     "output_type": "stream",
     "text": [
      "[[ 1.   2.   1.   0. ]\n",
      " [ 0.  -2.   1.   3. ]\n",
      " [ 0.   0.   0.5  0.5]] \n",
      "\n",
      "\n",
      "[[ 1.]\n",
      " [-1.]\n",
      " [ 1.]]\n"
     ]
    }
   ],
   "source": [
    "mat = np.array([[1,2,1,0],[2,2,3,3],[-1,-3,0,2]], dtype=np.float32)\n",
    "GEM(mat)\n"
   ]
  },
  {
   "cell_type": "code",
   "execution_count": 163,
   "metadata": {
    "colab": {
     "base_uri": "https://localhost:8080/",
     "height": 191
    },
    "colab_type": "code",
    "executionInfo": {
     "elapsed": 1037,
     "status": "ok",
     "timestamp": 1538999579535,
     "user": {
      "displayName": "Smit Shah",
      "photoUrl": "",
      "userId": "16173470511499712428"
     },
     "user_tz": -330
    },
    "id": "t8DuQcKiNtWf",
    "outputId": "c2ef2e6b-75cf-4811-b54d-c24f44fbfcd5"
   },
   "outputs": [
    {
     "name": "stdout",
     "output_type": "stream",
     "text": [
      "[[ 4.      3.      2.      1.      1.    ]\n",
      " [ 0.      1.75    1.5     1.25    0.25  ]\n",
      " [ 0.      0.      1.7143  1.4286 -1.7143]\n",
      " [ 0.      0.      0.      1.6667  0.    ]] \n",
      "\n",
      "\n",
      "[[ 0.]\n",
      " [ 1.]\n",
      " [-1.]\n",
      " [ 0.]]\n"
     ]
    }
   ],
   "source": [
    "mat = np.array([[4,3,2,1,1],[3,4,3,2,1],[2,3,4,3,-1],[1,2,3,4,-1]], dtype=np.float32)\n",
    "mat = GEM(mat)"
   ]
  },
  {
   "cell_type": "code",
   "execution_count": 165,
   "metadata": {
    "colab": {
     "base_uri": "https://localhost:8080/",
     "height": 243
    },
    "colab_type": "code",
    "executionInfo": {
     "elapsed": 1164,
     "status": "ok",
     "timestamp": 1538999594323,
     "user": {
      "displayName": "Smit Shah",
      "photoUrl": "",
      "userId": "16173470511499712428"
     },
     "user_tz": -330
    },
    "id": "loSerAZWTzdY",
    "outputId": "ba3d9d9c-47af-4216-8c62-9b15a4e7286d"
   },
   "outputs": [
    {
     "name": "stdout",
     "output_type": "stream",
     "text": [
      "[[ 1.  1. -1.]\n",
      " [ 1.  2. -2.]\n",
      " [-2.  1.  1.]] \n",
      "\n",
      "\n",
      "[[ 2.  -1.  -0. ]\n",
      " [ 1.5 -0.5  0.5]\n",
      " [ 2.5 -1.5  0.5]] \n",
      "\n",
      "\n",
      "[[ 1.  0. -0.]\n",
      " [ 0.  1.  0.]\n",
      " [ 0.  0.  1.]]\n"
     ]
    }
   ],
   "source": [
    "mat = np.array([[1,1,-1], [1,2,-2], [-2,1,1]], dtype=np.float32)\n",
    "print(mat, '\\n\\n')\n",
    "inv = sc.linalg.inv(mat)\n",
    "print(inv, '\\n\\n')\n",
    "print(np.matmul(mat,inv))"
   ]
  },
  {
   "cell_type": "code",
   "execution_count": 172,
   "metadata": {
    "colab": {
     "base_uri": "https://localhost:8080/",
     "height": 225
    },
    "colab_type": "code",
    "executionInfo": {
     "elapsed": 1375,
     "status": "ok",
     "timestamp": 1538999824191,
     "user": {
      "displayName": "Smit Shah",
      "photoUrl": "",
      "userId": "16173470511499712428"
     },
     "user_tz": -330
    },
    "id": "6DIfYbuKWtYj",
    "outputId": "03beaec5-cd37-4ae3-d538-f3bf18b1e911"
   },
   "outputs": [
    {
     "name": "stdout",
     "output_type": "stream",
     "text": [
      "A:\n",
      "[[ 9.  1.  1.]\n",
      " [ 2. 10.  3.]\n",
      " [ 3.  4. 11.]] \n",
      "\n",
      "\n",
      "b:\n",
      "[10. 19.  0.] \n",
      "\n",
      "\n",
      "x:\n",
      "[ 1.  2. -1.]\n"
     ]
    }
   ],
   "source": [
    "def jacobi(A,b,N=25,x=None):                                                                                                                                                         \n",
    "    if x is None:\n",
    "        x = zeros(len(A[0]))\n",
    "                                                                                                                                                                   \n",
    "    D = diag(A)\n",
    "    R = A - diagflat(D)\n",
    "                                                                                                                                                                         \n",
    "    for i in range(N):\n",
    "        x = (b - dot(R,x)) / D\n",
    "    return x\n",
    "\n",
    "A = array([[9,1,1],[2,10,3], [3,4,11]], dtype=np.float32)\n",
    "b = array([10.0,19.0,0.0], dtype=np.float32)\n",
    "guess = array([1.0,1.0, 1.0], dtype=np.float32)\n",
    "\n",
    "sol = jacobi(A,b,N=25,x=guess)\n",
    "\n",
    "print(\"A:\")\n",
    "print(A, '\\n\\n')\n",
    "\n",
    "print(\"b:\")\n",
    "print(b, '\\n\\n')\n",
    "\n",
    "print(\"x:\")\n",
    "print(sol)"
   ]
  },
  {
   "cell_type": "code",
   "execution_count": 0,
   "metadata": {
    "colab": {},
    "colab_type": "code",
    "id": "ihp8pI90hkpH"
   },
   "outputs": [],
   "source": []
  }
 ],
 "metadata": {
  "colab": {
   "collapsed_sections": [],
   "name": "System Of Equations.ipynb",
   "provenance": [],
   "version": "0.3.2"
  },
  "kernelspec": {
   "display_name": "Python 3",
   "language": "python",
   "name": "python3"
  },
  "language_info": {
   "codemirror_mode": {
    "name": "ipython",
    "version": 3
   },
   "file_extension": ".py",
   "mimetype": "text/x-python",
   "name": "python",
   "nbconvert_exporter": "python",
   "pygments_lexer": "ipython3",
   "version": "3.6.5"
  }
 },
 "nbformat": 4,
 "nbformat_minor": 1
}
