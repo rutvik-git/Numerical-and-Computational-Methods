{
 "cells": [
  {
   "cell_type": "markdown",
   "metadata": {
    "colab_type": "text",
    "id": "k08iPP2uspvZ"
   },
   "source": [
    "# The Secant Method "
   ]
  },
  {
   "cell_type": "code",
   "execution_count": 0,
   "metadata": {
    "colab": {},
    "colab_type": "code",
    "id": "uMN-pEanspvb"
   },
   "outputs": [],
   "source": [
    "import numpy as np\n",
    "import pandas as pd\n",
    "import matplotlib.pyplot as plt\n",
    "pd.set_option('precision', 6)"
   ]
  },
  {
   "cell_type": "code",
   "execution_count": 0,
   "metadata": {
    "colab": {},
    "colab_type": "code",
    "id": "cceYWCT-spvi"
   },
   "outputs": [],
   "source": [
    "def secantMethod(f, g_val1, g_val2):\n",
    "    table = pd.DataFrame(columns=['n', 'x_(n)', 'f(x_n)', 'x_(n) - x_(n-1)', 'x_(n+1)'])\n",
    "    table.loc[0] = [0, g_val1, f(g_val1), 0, 0]\n",
    "    prev_x = table['x_(n)'].iloc[0]\n",
    "    curr_x = g_val2\n",
    "    diff_x = curr_x - prev_x\n",
    "    prev_f = table['f(x_n)'].iloc[0]\n",
    "    curr_f = f(curr_x)\n",
    "    diff_f = curr_f - prev_f\n",
    "    \n",
    "    next_x = curr_x - (curr_f)*(diff_x/diff_f)\n",
    "    table.loc[1] = [1, curr_x, curr_f, curr_x - prev_x, next_x]\n",
    "    \n",
    "    i=2\n",
    "    while(np.abs(table['x_(n) - x_(n-1)'].iloc[i-1]) > 0.0001):\n",
    "        prev_x = table['x_(n)'].iloc[i-1]\n",
    "        curr_x = table['x_(n+1)'].iloc[i-1]\n",
    "        diff_x = curr_x - prev_x\n",
    "        prev_f = table['f(x_n)'].iloc[i-1]\n",
    "        curr_f = f(curr_x)\n",
    "        diff_f = curr_f - prev_f\n",
    "        next_x = curr_x - (curr_f)*(diff_x/diff_f)\n",
    "        table.loc[i] = [i, curr_x, curr_f, curr_x - prev_x, next_x]\n",
    "        i+=1        \n",
    "    return table    "
   ]
  },
  {
   "cell_type": "code",
   "execution_count": 4,
   "metadata": {
    "colab": {
     "base_uri": "https://localhost:8080/",
     "height": 644
    },
    "colab_type": "code",
    "executionInfo": {
     "elapsed": 1230,
     "status": "ok",
     "timestamp": 1536410696896,
     "user": {
      "displayName": "Rutvik Shah",
      "photoUrl": "//lh6.googleusercontent.com/-WiC1AJ8O0NA/AAAAAAAAAAI/AAAAAAAACWk/V38QQR5ypvQ/s50-c-k-no/photo.jpg",
      "userId": "106338664803916304984"
     },
     "user_tz": -330
    },
    "id": "CmT7n1QsNUnS",
    "outputId": "ce2e316e-b976-4487-8176-e39060b472a4"
   },
   "outputs": [
    {
     "name": "stdout",
     "output_type": "stream",
     "text": [
      "Opposite Side\n"
     ]
    },
    {
     "data": {
      "image/png": "[encoded data removed]",
      "text/plain": [
       "<matplotlib.figure.Figure at 0x7f52f5334358>"
      ]
     },
     "metadata": {
      "tags": []
     },
     "output_type": "display_data"
    },
    {
     "data": {
      "text/html": [
       "<div>\n",
       "<style scoped>\n",
       "    .dataframe tbody tr th:only-of-type {\n",
       "        vertical-align: middle;\n",
       "    }\n",
       "\n",
       "    .dataframe tbody tr th {\n",
       "        vertical-align: top;\n",
       "    }\n",
       "\n",
       "    .dataframe thead th {\n",
       "        text-align: right;\n",
       "    }\n",
       "</style>\n",
       "<table border=\"1\" class=\"dataframe\">\n",
       "  <thead>\n",
       "    <tr style=\"text-align: right;\">\n",
       "      <th></th>\n",
       "      <th>n</th>\n",
       "      <th>x_(n)</th>\n",
       "      <th>f(x_n)</th>\n",
       "      <th>x_(n) - x_(n-1)</th>\n",
       "      <th>x_(n+1)</th>\n",
       "    </tr>\n",
       "  </thead>\n",
       "  <tbody>\n",
       "    <tr>\n",
       "      <th>0</th>\n",
       "      <td>0</td>\n",
       "      <td>2</td>\n",
       "      <td>61</td>\n",
       "      <td>0</td>\n",
       "      <td>0</td>\n",
       "    </tr>\n",
       "    <tr>\n",
       "      <th>1</th>\n",
       "      <td>1</td>\n",
       "      <td>1</td>\n",
       "      <td>-1</td>\n",
       "      <td>-1</td>\n",
       "      <td>1.01613</td>\n",
       "    </tr>\n",
       "    <tr>\n",
       "      <th>2</th>\n",
       "      <td>2</td>\n",
       "      <td>1.01613</td>\n",
       "      <td>-0.915368</td>\n",
       "      <td>0.016129</td>\n",
       "      <td>1.19058</td>\n",
       "    </tr>\n",
       "    <tr>\n",
       "      <th>3</th>\n",
       "      <td>3</td>\n",
       "      <td>1.19058</td>\n",
       "      <td>0.657466</td>\n",
       "      <td>0.174449</td>\n",
       "      <td>1.11766</td>\n",
       "    </tr>\n",
       "    <tr>\n",
       "      <th>4</th>\n",
       "      <td>4</td>\n",
       "      <td>1.11766</td>\n",
       "      <td>-0.168491</td>\n",
       "      <td>-0.0729219</td>\n",
       "      <td>1.13253</td>\n",
       "    </tr>\n",
       "    <tr>\n",
       "      <th>5</th>\n",
       "      <td>5</td>\n",
       "      <td>1.13253</td>\n",
       "      <td>-0.0224373</td>\n",
       "      <td>0.0148757</td>\n",
       "      <td>1.13482</td>\n",
       "    </tr>\n",
       "    <tr>\n",
       "      <th>6</th>\n",
       "      <td>6</td>\n",
       "      <td>1.13482</td>\n",
       "      <td>0.000953564</td>\n",
       "      <td>0.00228526</td>\n",
       "      <td>1.13472</td>\n",
       "    </tr>\n",
       "    <tr>\n",
       "      <th>7</th>\n",
       "      <td>7</td>\n",
       "      <td>1.13472</td>\n",
       "      <td>-5.06617e-06</td>\n",
       "      <td>-9.31621e-05</td>\n",
       "      <td>1.13472</td>\n",
       "    </tr>\n",
       "  </tbody>\n",
       "</table>\n",
       "</div>"
      ],
      "text/plain": [
       "   n    x_(n)       f(x_n) x_(n) - x_(n-1)  x_(n+1)\n",
       "0  0        2           61               0        0\n",
       "1  1        1           -1              -1  1.01613\n",
       "2  2  1.01613    -0.915368        0.016129  1.19058\n",
       "3  3  1.19058     0.657466        0.174449  1.11766\n",
       "4  4  1.11766    -0.168491      -0.0729219  1.13253\n",
       "5  5  1.13253   -0.0224373       0.0148757  1.13482\n",
       "6  6  1.13482  0.000953564      0.00228526  1.13472\n",
       "7  7  1.13472 -5.06617e-06    -9.31621e-05  1.13472"
      ]
     },
     "execution_count": 4,
     "metadata": {
      "tags": []
     },
     "output_type": "execute_result"
    }
   ],
   "source": [
    "f = lambda x: x**6 -x -1\n",
    "print(\"Opposite Side\")\n",
    "table = secantMethod(f, 2, 1)\n",
    "plt.stem(table['n'], table['f(x_n)'])\n",
    "plt.grid(True)\n",
    "plt.show()\n",
    "table"
   ]
  },
  {
   "cell_type": "code",
   "execution_count": 5,
   "metadata": {
    "colab": {
     "base_uri": "https://localhost:8080/",
     "height": 768
    },
    "colab_type": "code",
    "executionInfo": {
     "elapsed": 1072,
     "status": "ok",
     "timestamp": 1536410750150,
     "user": {
      "displayName": "Rutvik Shah",
      "photoUrl": "//lh6.googleusercontent.com/-WiC1AJ8O0NA/AAAAAAAAAAI/AAAAAAAACWk/V38QQR5ypvQ/s50-c-k-no/photo.jpg",
      "userId": "106338664803916304984"
     },
     "user_tz": -330
    },
    "id": "JhR0iRP6N0zu",
    "outputId": "797e2223-4cd9-40fa-c74d-af04f97f65c6"
   },
   "outputs": [
    {
     "name": "stdout",
     "output_type": "stream",
     "text": [
      "Same Side\n"
     ]
    },
    {
     "data": {
      "image/png": "[encoded data removed]",
      "text/plain": [
       "<matplotlib.figure.Figure at 0x7f52f29b4710>"
      ]
     },
     "metadata": {
      "tags": []
     },
     "output_type": "display_data"
    },
    {
     "data": {
      "text/html": [
       "<div>\n",
       "<style scoped>\n",
       "    .dataframe tbody tr th:only-of-type {\n",
       "        vertical-align: middle;\n",
       "    }\n",
       "\n",
       "    .dataframe tbody tr th {\n",
       "        vertical-align: top;\n",
       "    }\n",
       "\n",
       "    .dataframe thead th {\n",
       "        text-align: right;\n",
       "    }\n",
       "</style>\n",
       "<table border=\"1\" class=\"dataframe\">\n",
       "  <thead>\n",
       "    <tr style=\"text-align: right;\">\n",
       "      <th></th>\n",
       "      <th>n</th>\n",
       "      <th>x_(n)</th>\n",
       "      <th>f(x_n)</th>\n",
       "      <th>x_(n) - x_(n-1)</th>\n",
       "      <th>x_(n+1)</th>\n",
       "    </tr>\n",
       "  </thead>\n",
       "  <tbody>\n",
       "    <tr>\n",
       "      <th>0</th>\n",
       "      <td>0</td>\n",
       "      <td>3</td>\n",
       "      <td>725</td>\n",
       "      <td>0</td>\n",
       "      <td>0</td>\n",
       "    </tr>\n",
       "    <tr>\n",
       "      <th>1</th>\n",
       "      <td>1</td>\n",
       "      <td>2</td>\n",
       "      <td>61</td>\n",
       "      <td>-1</td>\n",
       "      <td>1.90813</td>\n",
       "    </tr>\n",
       "    <tr>\n",
       "      <th>2</th>\n",
       "      <td>2</td>\n",
       "      <td>1.90813</td>\n",
       "      <td>45.359</td>\n",
       "      <td>-0.0918675</td>\n",
       "      <td>1.64172</td>\n",
       "    </tr>\n",
       "    <tr>\n",
       "      <th>3</th>\n",
       "      <td>3</td>\n",
       "      <td>1.64172</td>\n",
       "      <td>16.9373</td>\n",
       "      <td>-0.266416</td>\n",
       "      <td>1.48295</td>\n",
       "    </tr>\n",
       "    <tr>\n",
       "      <th>4</th>\n",
       "      <td>4</td>\n",
       "      <td>1.48295</td>\n",
       "      <td>8.1527</td>\n",
       "      <td>-0.158764</td>\n",
       "      <td>1.33561</td>\n",
       "    </tr>\n",
       "    <tr>\n",
       "      <th>5</th>\n",
       "      <td>5</td>\n",
       "      <td>1.33561</td>\n",
       "      <td>3.34081</td>\n",
       "      <td>-0.147345</td>\n",
       "      <td>1.23331</td>\n",
       "    </tr>\n",
       "    <tr>\n",
       "      <th>6</th>\n",
       "      <td>6</td>\n",
       "      <td>1.23331</td>\n",
       "      <td>1.2858</td>\n",
       "      <td>-0.102299</td>\n",
       "      <td>1.1693</td>\n",
       "    </tr>\n",
       "    <tr>\n",
       "      <th>7</th>\n",
       "      <td>7</td>\n",
       "      <td>1.1693</td>\n",
       "      <td>0.386699</td>\n",
       "      <td>-0.064007</td>\n",
       "      <td>1.14177</td>\n",
       "    </tr>\n",
       "    <tr>\n",
       "      <th>8</th>\n",
       "      <td>8</td>\n",
       "      <td>1.14177</td>\n",
       "      <td>0.0737641</td>\n",
       "      <td>-0.0275292</td>\n",
       "      <td>1.13528</td>\n",
       "    </tr>\n",
       "    <tr>\n",
       "      <th>9</th>\n",
       "      <td>9</td>\n",
       "      <td>1.13528</td>\n",
       "      <td>0.00576838</td>\n",
       "      <td>-0.00648911</td>\n",
       "      <td>1.13473</td>\n",
       "    </tr>\n",
       "    <tr>\n",
       "      <th>10</th>\n",
       "      <td>10</td>\n",
       "      <td>1.13473</td>\n",
       "      <td>9.72404e-05</td>\n",
       "      <td>-0.0005505</td>\n",
       "      <td>1.13472</td>\n",
       "    </tr>\n",
       "    <tr>\n",
       "      <th>11</th>\n",
       "      <td>11</td>\n",
       "      <td>1.13472</td>\n",
       "      <td>1.31528e-07</td>\n",
       "      <td>-9.43917e-06</td>\n",
       "      <td>1.13472</td>\n",
       "    </tr>\n",
       "  </tbody>\n",
       "</table>\n",
       "</div>"
      ],
      "text/plain": [
       "     n    x_(n)       f(x_n) x_(n) - x_(n-1)  x_(n+1)\n",
       "0    0        3          725               0        0\n",
       "1    1        2           61              -1  1.90813\n",
       "2    2  1.90813       45.359      -0.0918675  1.64172\n",
       "3    3  1.64172      16.9373       -0.266416  1.48295\n",
       "4    4  1.48295       8.1527       -0.158764  1.33561\n",
       "5    5  1.33561      3.34081       -0.147345  1.23331\n",
       "6    6  1.23331       1.2858       -0.102299   1.1693\n",
       "7    7   1.1693     0.386699       -0.064007  1.14177\n",
       "8    8  1.14177    0.0737641      -0.0275292  1.13528\n",
       "9    9  1.13528   0.00576838     -0.00648911  1.13473\n",
       "10  10  1.13473  9.72404e-05      -0.0005505  1.13472\n",
       "11  11  1.13472  1.31528e-07    -9.43917e-06  1.13472"
      ]
     },
     "execution_count": 5,
     "metadata": {
      "tags": []
     },
     "output_type": "execute_result"
    }
   ],
   "source": [
    "f = lambda x: x**6 -x -1\n",
    "print(\"Same Side\")\n",
    "table = secantMethod(f, 3, 2)\n",
    "plt.stem(table['n'], table['f(x_n)'])\n",
    "plt.grid(True)\n",
    "plt.show()\n",
    "table"
   ]
  },
  {
   "cell_type": "code",
   "execution_count": 6,
   "metadata": {
    "colab": {
     "base_uri": "https://localhost:8080/",
     "height": 706
    },
    "colab_type": "code",
    "executionInfo": {
     "elapsed": 1314,
     "status": "ok",
     "timestamp": 1536410786191,
     "user": {
      "displayName": "Rutvik Shah",
      "photoUrl": "//lh6.googleusercontent.com/-WiC1AJ8O0NA/AAAAAAAAAAI/AAAAAAAACWk/V38QQR5ypvQ/s50-c-k-no/photo.jpg",
      "userId": "106338664803916304984"
     },
     "user_tz": -330
    },
    "id": "SRTAbkZ0N693",
    "outputId": "ecc4254c-4984-4483-9f8c-fef13cd2c2c1"
   },
   "outputs": [
    {
     "name": "stdout",
     "output_type": "stream",
     "text": [
      "Opposite Side\n"
     ]
    },
    {
     "data": {
      "image/png": "[encoded data removed]",
      "text/plain": [
       "<matplotlib.figure.Figure at 0x7f52f2908e48>"
      ]
     },
     "metadata": {
      "tags": []
     },
     "output_type": "display_data"
    },
    {
     "data": {
      "text/html": [
       "<div>\n",
       "<style scoped>\n",
       "    .dataframe tbody tr th:only-of-type {\n",
       "        vertical-align: middle;\n",
       "    }\n",
       "\n",
       "    .dataframe tbody tr th {\n",
       "        vertical-align: top;\n",
       "    }\n",
       "\n",
       "    .dataframe thead th {\n",
       "        text-align: right;\n",
       "    }\n",
       "</style>\n",
       "<table border=\"1\" class=\"dataframe\">\n",
       "  <thead>\n",
       "    <tr style=\"text-align: right;\">\n",
       "      <th></th>\n",
       "      <th>n</th>\n",
       "      <th>x_(n)</th>\n",
       "      <th>f(x_n)</th>\n",
       "      <th>x_(n) - x_(n-1)</th>\n",
       "      <th>x_(n+1)</th>\n",
       "    </tr>\n",
       "  </thead>\n",
       "  <tbody>\n",
       "    <tr>\n",
       "      <th>0</th>\n",
       "      <td>0</td>\n",
       "      <td>-1</td>\n",
       "      <td>1</td>\n",
       "      <td>0</td>\n",
       "      <td>0</td>\n",
       "    </tr>\n",
       "    <tr>\n",
       "      <th>1</th>\n",
       "      <td>1</td>\n",
       "      <td>0</td>\n",
       "      <td>-1</td>\n",
       "      <td>1</td>\n",
       "      <td>-0.5</td>\n",
       "    </tr>\n",
       "    <tr>\n",
       "      <th>2</th>\n",
       "      <td>2</td>\n",
       "      <td>-0.5</td>\n",
       "      <td>-0.484375</td>\n",
       "      <td>-0.5</td>\n",
       "      <td>-0.969697</td>\n",
       "    </tr>\n",
       "    <tr>\n",
       "      <th>3</th>\n",
       "      <td>3</td>\n",
       "      <td>-0.969697</td>\n",
       "      <td>0.801109</td>\n",
       "      <td>-0.469697</td>\n",
       "      <td>-0.676984</td>\n",
       "    </tr>\n",
       "    <tr>\n",
       "      <th>4</th>\n",
       "      <td>4</td>\n",
       "      <td>-0.676984</td>\n",
       "      <td>-0.226751</td>\n",
       "      <td>0.292713</td>\n",
       "      <td>-0.741558</td>\n",
       "    </tr>\n",
       "    <tr>\n",
       "      <th>5</th>\n",
       "      <td>5</td>\n",
       "      <td>-0.741558</td>\n",
       "      <td>-0.092151</td>\n",
       "      <td>-0.0645741</td>\n",
       "      <td>-0.785767</td>\n",
       "    </tr>\n",
       "    <tr>\n",
       "      <th>6</th>\n",
       "      <td>6</td>\n",
       "      <td>-0.785767</td>\n",
       "      <td>0.0211428</td>\n",
       "      <td>-0.0442092</td>\n",
       "      <td>-0.777517</td>\n",
       "    </tr>\n",
       "    <tr>\n",
       "      <th>7</th>\n",
       "      <td>7</td>\n",
       "      <td>-0.777517</td>\n",
       "      <td>-0.00155185</td>\n",
       "      <td>0.00825029</td>\n",
       "      <td>-0.778081</td>\n",
       "    </tr>\n",
       "    <tr>\n",
       "      <th>8</th>\n",
       "      <td>8</td>\n",
       "      <td>-0.778081</td>\n",
       "      <td>-2.41324e-05</td>\n",
       "      <td>-0.000564151</td>\n",
       "      <td>-0.77809</td>\n",
       "    </tr>\n",
       "    <tr>\n",
       "      <th>9</th>\n",
       "      <td>9</td>\n",
       "      <td>-0.77809</td>\n",
       "      <td>2.80499e-08</td>\n",
       "      <td>-8.91153e-06</td>\n",
       "      <td>-0.77809</td>\n",
       "    </tr>\n",
       "  </tbody>\n",
       "</table>\n",
       "</div>"
      ],
      "text/plain": [
       "   n     x_(n)       f(x_n) x_(n) - x_(n-1)   x_(n+1)\n",
       "0  0        -1            1               0         0\n",
       "1  1         0           -1               1      -0.5\n",
       "2  2      -0.5    -0.484375            -0.5 -0.969697\n",
       "3  3 -0.969697     0.801109       -0.469697 -0.676984\n",
       "4  4 -0.676984    -0.226751        0.292713 -0.741558\n",
       "5  5 -0.741558    -0.092151      -0.0645741 -0.785767\n",
       "6  6 -0.785767    0.0211428      -0.0442092 -0.777517\n",
       "7  7 -0.777517  -0.00155185      0.00825029 -0.778081\n",
       "8  8 -0.778081 -2.41324e-05    -0.000564151  -0.77809\n",
       "9  9  -0.77809  2.80499e-08    -8.91153e-06  -0.77809"
      ]
     },
     "execution_count": 6,
     "metadata": {
      "tags": []
     },
     "output_type": "execute_result"
    }
   ],
   "source": [
    "f = lambda x: x**6 -x -1\n",
    "print(\"Opposite Side\")\n",
    "table = secantMethod(f, -1, 0)\n",
    "plt.stem(table['n'], table['f(x_n)'])\n",
    "plt.grid(True)\n",
    "plt.show()\n",
    "table"
   ]
  },
  {
   "cell_type": "code",
   "execution_count": 7,
   "metadata": {
    "colab": {
     "base_uri": "https://localhost:8080/",
     "height": 675
    },
    "colab_type": "code",
    "executionInfo": {
     "elapsed": 952,
     "status": "ok",
     "timestamp": 1536410811905,
     "user": {
      "displayName": "Rutvik Shah",
      "photoUrl": "//lh6.googleusercontent.com/-WiC1AJ8O0NA/AAAAAAAAAAI/AAAAAAAACWk/V38QQR5ypvQ/s50-c-k-no/photo.jpg",
      "userId": "106338664803916304984"
     },
     "user_tz": -330
    },
    "id": "1SUxevdMN8-8",
    "outputId": "4f1266fb-8683-4c7d-ab45-451abef4a365"
   },
   "outputs": [
    {
     "name": "stdout",
     "output_type": "stream",
     "text": [
      "Same Side\n"
     ]
    },
    {
     "data": {
      "image/png": "[encoded data removed]",
      "text/plain": [
       "<matplotlib.figure.Figure at 0x7f52f5235cc0>"
      ]
     },
     "metadata": {
      "tags": []
     },
     "output_type": "display_data"
    },
    {
     "data": {
      "text/html": [
       "<div>\n",
       "<style scoped>\n",
       "    .dataframe tbody tr th:only-of-type {\n",
       "        vertical-align: middle;\n",
       "    }\n",
       "\n",
       "    .dataframe tbody tr th {\n",
       "        vertical-align: top;\n",
       "    }\n",
       "\n",
       "    .dataframe thead th {\n",
       "        text-align: right;\n",
       "    }\n",
       "</style>\n",
       "<table border=\"1\" class=\"dataframe\">\n",
       "  <thead>\n",
       "    <tr style=\"text-align: right;\">\n",
       "      <th></th>\n",
       "      <th>n</th>\n",
       "      <th>x_(n)</th>\n",
       "      <th>f(x_n)</th>\n",
       "      <th>x_(n) - x_(n-1)</th>\n",
       "      <th>x_(n+1)</th>\n",
       "    </tr>\n",
       "  </thead>\n",
       "  <tbody>\n",
       "    <tr>\n",
       "      <th>0</th>\n",
       "      <td>0</td>\n",
       "      <td>-2</td>\n",
       "      <td>65</td>\n",
       "      <td>0</td>\n",
       "      <td>0</td>\n",
       "    </tr>\n",
       "    <tr>\n",
       "      <th>1</th>\n",
       "      <td>1</td>\n",
       "      <td>-1</td>\n",
       "      <td>1</td>\n",
       "      <td>1</td>\n",
       "      <td>-0.984375</td>\n",
       "    </tr>\n",
       "    <tr>\n",
       "      <th>2</th>\n",
       "      <td>2</td>\n",
       "      <td>-0.984375</td>\n",
       "      <td>0.894212</td>\n",
       "      <td>0.015625</td>\n",
       "      <td>-0.852299</td>\n",
       "    </tr>\n",
       "    <tr>\n",
       "      <th>3</th>\n",
       "      <td>3</td>\n",
       "      <td>-0.852299</td>\n",
       "      <td>0.235612</td>\n",
       "      <td>0.132076</td>\n",
       "      <td>-0.80505</td>\n",
       "    </tr>\n",
       "    <tr>\n",
       "      <th>4</th>\n",
       "      <td>4</td>\n",
       "      <td>-0.80505</td>\n",
       "      <td>0.0772799</td>\n",
       "      <td>0.0472496</td>\n",
       "      <td>-0.781988</td>\n",
       "    </tr>\n",
       "    <tr>\n",
       "      <th>5</th>\n",
       "      <td>5</td>\n",
       "      <td>-0.781988</td>\n",
       "      <td>0.0106528</td>\n",
       "      <td>0.023062</td>\n",
       "      <td>-0.7783</td>\n",
       "    </tr>\n",
       "    <tr>\n",
       "      <th>6</th>\n",
       "      <td>6</td>\n",
       "      <td>-0.7783</td>\n",
       "      <td>0.000571935</td>\n",
       "      <td>0.0036873</td>\n",
       "      <td>-0.778091</td>\n",
       "    </tr>\n",
       "    <tr>\n",
       "      <th>7</th>\n",
       "      <td>7</td>\n",
       "      <td>-0.778091</td>\n",
       "      <td>4.51339e-06</td>\n",
       "      <td>0.000209198</td>\n",
       "      <td>-0.77809</td>\n",
       "    </tr>\n",
       "    <tr>\n",
       "      <th>8</th>\n",
       "      <td>8</td>\n",
       "      <td>-0.77809</td>\n",
       "      <td>1.92984e-09</td>\n",
       "      <td>1.66401e-06</td>\n",
       "      <td>-0.77809</td>\n",
       "    </tr>\n",
       "  </tbody>\n",
       "</table>\n",
       "</div>"
      ],
      "text/plain": [
       "   n     x_(n)       f(x_n) x_(n) - x_(n-1)   x_(n+1)\n",
       "0  0        -2           65               0         0\n",
       "1  1        -1            1               1 -0.984375\n",
       "2  2 -0.984375     0.894212        0.015625 -0.852299\n",
       "3  3 -0.852299     0.235612        0.132076  -0.80505\n",
       "4  4  -0.80505    0.0772799       0.0472496 -0.781988\n",
       "5  5 -0.781988    0.0106528        0.023062   -0.7783\n",
       "6  6   -0.7783  0.000571935       0.0036873 -0.778091\n",
       "7  7 -0.778091  4.51339e-06     0.000209198  -0.77809\n",
       "8  8  -0.77809  1.92984e-09     1.66401e-06  -0.77809"
      ]
     },
     "execution_count": 7,
     "metadata": {
      "tags": []
     },
     "output_type": "execute_result"
    }
   ],
   "source": [
    "f = lambda x: x**6 -x -1\n",
    "print(\"Same Side\")\n",
    "table = secantMethod(f, -2, -1)\n",
    "plt.stem(table['n'], table['f(x_n)'])\n",
    "plt.grid(True)\n",
    "plt.show()\n",
    "table"
   ]
  },
  {
   "cell_type": "code",
   "execution_count": 8,
   "metadata": {
    "colab": {
     "base_uri": "https://localhost:8080/",
     "height": 675
    },
    "colab_type": "code",
    "executionInfo": {
     "elapsed": 989,
     "status": "ok",
     "timestamp": 1536410881646,
     "user": {
      "displayName": "Rutvik Shah",
      "photoUrl": "//lh6.googleusercontent.com/-WiC1AJ8O0NA/AAAAAAAAAAI/AAAAAAAACWk/V38QQR5ypvQ/s50-c-k-no/photo.jpg",
      "userId": "106338664803916304984"
     },
     "user_tz": -330
    },
    "id": "1G4_MmGpspvl",
    "outputId": "2390047e-67ce-46f3-b0c1-10c5221f42dd"
   },
   "outputs": [
    {
     "name": "stdout",
     "output_type": "stream",
     "text": [
      "Opposite Side\n"
     ]
    },
    {
     "data": {
      "image/png": "[encoded data removed]",
      "text/plain": [
       "<matplotlib.figure.Figure at 0x7f52f2823198>"
      ]
     },
     "metadata": {
      "tags": []
     },
     "output_type": "display_data"
    },
    {
     "data": {
      "text/html": [
       "<div>\n",
       "<style scoped>\n",
       "    .dataframe tbody tr th:only-of-type {\n",
       "        vertical-align: middle;\n",
       "    }\n",
       "\n",
       "    .dataframe tbody tr th {\n",
       "        vertical-align: top;\n",
       "    }\n",
       "\n",
       "    .dataframe thead th {\n",
       "        text-align: right;\n",
       "    }\n",
       "</style>\n",
       "<table border=\"1\" class=\"dataframe\">\n",
       "  <thead>\n",
       "    <tr style=\"text-align: right;\">\n",
       "      <th></th>\n",
       "      <th>n</th>\n",
       "      <th>x_(n)</th>\n",
       "      <th>f(x_n)</th>\n",
       "      <th>x_(n) - x_(n-1)</th>\n",
       "      <th>x_(n+1)</th>\n",
       "    </tr>\n",
       "  </thead>\n",
       "  <tbody>\n",
       "    <tr>\n",
       "      <th>0</th>\n",
       "      <td>0</td>\n",
       "      <td>2</td>\n",
       "      <td>1</td>\n",
       "      <td>0</td>\n",
       "      <td>0</td>\n",
       "    </tr>\n",
       "    <tr>\n",
       "      <th>1</th>\n",
       "      <td>1</td>\n",
       "      <td>1</td>\n",
       "      <td>-2</td>\n",
       "      <td>-1</td>\n",
       "      <td>1.66667</td>\n",
       "    </tr>\n",
       "    <tr>\n",
       "      <th>2</th>\n",
       "      <td>2</td>\n",
       "      <td>1.66667</td>\n",
       "      <td>-0.814815</td>\n",
       "      <td>0.666667</td>\n",
       "      <td>2.125</td>\n",
       "    </tr>\n",
       "    <tr>\n",
       "      <th>3</th>\n",
       "      <td>3</td>\n",
       "      <td>2.125</td>\n",
       "      <td>1.95508</td>\n",
       "      <td>0.458333</td>\n",
       "      <td>1.80149</td>\n",
       "    </tr>\n",
       "    <tr>\n",
       "      <th>4</th>\n",
       "      <td>4</td>\n",
       "      <td>1.80149</td>\n",
       "      <td>-0.200342</td>\n",
       "      <td>-0.323506</td>\n",
       "      <td>1.83156</td>\n",
       "    </tr>\n",
       "    <tr>\n",
       "      <th>5</th>\n",
       "      <td>5</td>\n",
       "      <td>1.83156</td>\n",
       "      <td>-0.0419823</td>\n",
       "      <td>0.0300692</td>\n",
       "      <td>1.83953</td>\n",
       "    </tr>\n",
       "    <tr>\n",
       "      <th>6</th>\n",
       "      <td>6</td>\n",
       "      <td>1.83953</td>\n",
       "      <td>0.00135629</td>\n",
       "      <td>0.00797159</td>\n",
       "      <td>1.83929</td>\n",
       "    </tr>\n",
       "    <tr>\n",
       "      <th>7</th>\n",
       "      <td>7</td>\n",
       "      <td>1.83929</td>\n",
       "      <td>-8.68907e-06</td>\n",
       "      <td>-0.000249473</td>\n",
       "      <td>1.83929</td>\n",
       "    </tr>\n",
       "    <tr>\n",
       "      <th>8</th>\n",
       "      <td>8</td>\n",
       "      <td>1.83929</td>\n",
       "      <td>-1.77859e-09</td>\n",
       "      <td>1.58807e-06</td>\n",
       "      <td>1.83929</td>\n",
       "    </tr>\n",
       "  </tbody>\n",
       "</table>\n",
       "</div>"
      ],
      "text/plain": [
       "   n    x_(n)       f(x_n) x_(n) - x_(n-1)  x_(n+1)\n",
       "0  0        2            1               0        0\n",
       "1  1        1           -2              -1  1.66667\n",
       "2  2  1.66667    -0.814815        0.666667    2.125\n",
       "3  3    2.125      1.95508        0.458333  1.80149\n",
       "4  4  1.80149    -0.200342       -0.323506  1.83156\n",
       "5  5  1.83156   -0.0419823       0.0300692  1.83953\n",
       "6  6  1.83953   0.00135629      0.00797159  1.83929\n",
       "7  7  1.83929 -8.68907e-06    -0.000249473  1.83929\n",
       "8  8  1.83929 -1.77859e-09     1.58807e-06  1.83929"
      ]
     },
     "execution_count": 8,
     "metadata": {
      "tags": []
     },
     "output_type": "execute_result"
    }
   ],
   "source": [
    "f = lambda x: x**3 -x**2 -x -1\n",
    "print(\"Opposite Side\")\n",
    "table = secantMethod(f, 2, 1)\n",
    "plt.stem(table['n'], table['f(x_n)'])\n",
    "plt.grid(True)\n",
    "plt.show()\n",
    "table"
   ]
  },
  {
   "cell_type": "code",
   "execution_count": 9,
   "metadata": {
    "colab": {
     "base_uri": "https://localhost:8080/",
     "height": 613
    },
    "colab_type": "code",
    "executionInfo": {
     "elapsed": 1084,
     "status": "ok",
     "timestamp": 1536410884667,
     "user": {
      "displayName": "Rutvik Shah",
      "photoUrl": "//lh6.googleusercontent.com/-WiC1AJ8O0NA/AAAAAAAAAAI/AAAAAAAACWk/V38QQR5ypvQ/s50-c-k-no/photo.jpg",
      "userId": "106338664803916304984"
     },
     "user_tz": -330
    },
    "id": "zUa7vK1ispvq",
    "outputId": "5c02157a-15da-4736-dacc-fb417c9053c3"
   },
   "outputs": [
    {
     "name": "stdout",
     "output_type": "stream",
     "text": [
      "Opposite Side\n"
     ]
    },
    {
     "data": {
      "image/png": "[encoded data removed]",
      "text/plain": [
       "<matplotlib.figure.Figure at 0x7f52f2748b70>"
      ]
     },
     "metadata": {
      "tags": []
     },
     "output_type": "display_data"
    },
    {
     "data": {
      "text/html": [
       "<div>\n",
       "<style scoped>\n",
       "    .dataframe tbody tr th:only-of-type {\n",
       "        vertical-align: middle;\n",
       "    }\n",
       "\n",
       "    .dataframe tbody tr th {\n",
       "        vertical-align: top;\n",
       "    }\n",
       "\n",
       "    .dataframe thead th {\n",
       "        text-align: right;\n",
       "    }\n",
       "</style>\n",
       "<table border=\"1\" class=\"dataframe\">\n",
       "  <thead>\n",
       "    <tr style=\"text-align: right;\">\n",
       "      <th></th>\n",
       "      <th>n</th>\n",
       "      <th>x_(n)</th>\n",
       "      <th>f(x_n)</th>\n",
       "      <th>x_(n) - x_(n-1)</th>\n",
       "      <th>x_(n+1)</th>\n",
       "    </tr>\n",
       "  </thead>\n",
       "  <tbody>\n",
       "    <tr>\n",
       "      <th>0</th>\n",
       "      <td>0</td>\n",
       "      <td>3</td>\n",
       "      <td>14</td>\n",
       "      <td>0</td>\n",
       "      <td>0</td>\n",
       "    </tr>\n",
       "    <tr>\n",
       "      <th>1</th>\n",
       "      <td>1</td>\n",
       "      <td>2</td>\n",
       "      <td>1</td>\n",
       "      <td>-1</td>\n",
       "      <td>1.92308</td>\n",
       "    </tr>\n",
       "    <tr>\n",
       "      <th>2</th>\n",
       "      <td>2</td>\n",
       "      <td>1.92308</td>\n",
       "      <td>0.490669</td>\n",
       "      <td>-0.0769231</td>\n",
       "      <td>1.84897</td>\n",
       "    </tr>\n",
       "    <tr>\n",
       "      <th>3</th>\n",
       "      <td>3</td>\n",
       "      <td>1.84897</td>\n",
       "      <td>0.0534081</td>\n",
       "      <td>-0.0741046</td>\n",
       "      <td>1.83992</td>\n",
       "    </tr>\n",
       "    <tr>\n",
       "      <th>4</th>\n",
       "      <td>4</td>\n",
       "      <td>1.83992</td>\n",
       "      <td>0.00347129</td>\n",
       "      <td>-0.00905131</td>\n",
       "      <td>1.83929</td>\n",
       "    </tr>\n",
       "    <tr>\n",
       "      <th>5</th>\n",
       "      <td>5</td>\n",
       "      <td>1.83929</td>\n",
       "      <td>2.75806e-05</td>\n",
       "      <td>-0.00062919</td>\n",
       "      <td>1.83929</td>\n",
       "    </tr>\n",
       "    <tr>\n",
       "      <th>6</th>\n",
       "      <td>6</td>\n",
       "      <td>1.83929</td>\n",
       "      <td>1.44411e-08</td>\n",
       "      <td>-5.03917e-06</td>\n",
       "      <td>1.83929</td>\n",
       "    </tr>\n",
       "  </tbody>\n",
       "</table>\n",
       "</div>"
      ],
      "text/plain": [
       "   n    x_(n)       f(x_n) x_(n) - x_(n-1)  x_(n+1)\n",
       "0  0        3           14               0        0\n",
       "1  1        2            1              -1  1.92308\n",
       "2  2  1.92308     0.490669      -0.0769231  1.84897\n",
       "3  3  1.84897    0.0534081      -0.0741046  1.83992\n",
       "4  4  1.83992   0.00347129     -0.00905131  1.83929\n",
       "5  5  1.83929  2.75806e-05     -0.00062919  1.83929\n",
       "6  6  1.83929  1.44411e-08    -5.03917e-06  1.83929"
      ]
     },
     "execution_count": 9,
     "metadata": {
      "tags": []
     },
     "output_type": "execute_result"
    }
   ],
   "source": [
    "f = lambda x: x**3 -x**2 -x -1\n",
    "print(\"Opposite Side\")\n",
    "table = secantMethod(f, 3, 2)\n",
    "plt.stem(table['n'], table['f(x_n)'])\n",
    "plt.grid(True)\n",
    "plt.show()\n",
    "table"
   ]
  },
  {
   "cell_type": "code",
   "execution_count": 10,
   "metadata": {
    "colab": {
     "base_uri": "https://localhost:8080/",
     "height": 551
    },
    "colab_type": "code",
    "executionInfo": {
     "elapsed": 1768,
     "status": "ok",
     "timestamp": 1536410886483,
     "user": {
      "displayName": "Rutvik Shah",
      "photoUrl": "//lh6.googleusercontent.com/-WiC1AJ8O0NA/AAAAAAAAAAI/AAAAAAAACWk/V38QQR5ypvQ/s50-c-k-no/photo.jpg",
      "userId": "106338664803916304984"
     },
     "user_tz": -330
    },
    "id": "ID2nbocHspvu",
    "outputId": "3c52c6f0-0f6c-4c8c-eb21-7eaaa5bf2588"
   },
   "outputs": [
    {
     "name": "stdout",
     "output_type": "stream",
     "text": [
      "Opposite Side\n"
     ]
    },
    {
     "data": {
      "image/png": "[encoded data removed]",
      "text/plain": [
       "<matplotlib.figure.Figure at 0x7f52f27482b0>"
      ]
     },
     "metadata": {
      "tags": []
     },
     "output_type": "display_data"
    },
    {
     "data": {
      "text/html": [
       "<div>\n",
       "<style scoped>\n",
       "    .dataframe tbody tr th:only-of-type {\n",
       "        vertical-align: middle;\n",
       "    }\n",
       "\n",
       "    .dataframe tbody tr th {\n",
       "        vertical-align: top;\n",
       "    }\n",
       "\n",
       "    .dataframe thead th {\n",
       "        text-align: right;\n",
       "    }\n",
       "</style>\n",
       "<table border=\"1\" class=\"dataframe\">\n",
       "  <thead>\n",
       "    <tr style=\"text-align: right;\">\n",
       "      <th></th>\n",
       "      <th>n</th>\n",
       "      <th>x_(n)</th>\n",
       "      <th>f(x_n)</th>\n",
       "      <th>x_(n) - x_(n-1)</th>\n",
       "      <th>x_(n+1)</th>\n",
       "    </tr>\n",
       "  </thead>\n",
       "  <tbody>\n",
       "    <tr>\n",
       "      <th>0</th>\n",
       "      <td>0.0</td>\n",
       "      <td>2.000000</td>\n",
       "      <td>-1.124844e+00</td>\n",
       "      <td>0.000000</td>\n",
       "      <td>0.000000</td>\n",
       "    </tr>\n",
       "    <tr>\n",
       "      <th>1</th>\n",
       "      <td>1.0</td>\n",
       "      <td>1.000000</td>\n",
       "      <td>1.620907e-01</td>\n",
       "      <td>-1.000000</td>\n",
       "      <td>1.125951</td>\n",
       "    </tr>\n",
       "    <tr>\n",
       "      <th>2</th>\n",
       "      <td>2.0</td>\n",
       "      <td>1.125951</td>\n",
       "      <td>3.144505e-03</td>\n",
       "      <td>0.125951</td>\n",
       "      <td>1.128443</td>\n",
       "    </tr>\n",
       "    <tr>\n",
       "      <th>3</th>\n",
       "      <td>3.0</td>\n",
       "      <td>1.128443</td>\n",
       "      <td>-2.241347e-05</td>\n",
       "      <td>0.002492</td>\n",
       "      <td>1.128425</td>\n",
       "    </tr>\n",
       "    <tr>\n",
       "      <th>4</th>\n",
       "      <td>4.0</td>\n",
       "      <td>1.128425</td>\n",
       "      <td>2.806499e-09</td>\n",
       "      <td>-0.000018</td>\n",
       "      <td>1.128425</td>\n",
       "    </tr>\n",
       "  </tbody>\n",
       "</table>\n",
       "</div>"
      ],
      "text/plain": [
       "     n     x_(n)        f(x_n)  x_(n) - x_(n-1)   x_(n+1)\n",
       "0  0.0  2.000000 -1.124844e+00         0.000000  0.000000\n",
       "1  1.0  1.000000  1.620907e-01        -1.000000  1.125951\n",
       "2  2.0  1.125951  3.144505e-03         0.125951  1.128443\n",
       "3  3.0  1.128443 -2.241347e-05         0.002492  1.128425\n",
       "4  4.0  1.128425  2.806499e-09        -0.000018  1.128425"
      ]
     },
     "execution_count": 10,
     "metadata": {
      "tags": []
     },
     "output_type": "execute_result"
    }
   ],
   "source": [
    "f = lambda x: 1 + 0.3*np.cos(x) -x\n",
    "print(\"Opposite Side\")\n",
    "table = secantMethod(f, 2, 1)\n",
    "plt.stem(table['n'], table['f(x_n)'])\n",
    "plt.grid(True)\n",
    "plt.show()\n",
    "table"
   ]
  },
  {
   "cell_type": "code",
   "execution_count": 11,
   "metadata": {
    "colab": {
     "base_uri": "https://localhost:8080/",
     "height": 582
    },
    "colab_type": "code",
    "executionInfo": {
     "elapsed": 1520,
     "status": "ok",
     "timestamp": 1536410888061,
     "user": {
      "displayName": "Rutvik Shah",
      "photoUrl": "//lh6.googleusercontent.com/-WiC1AJ8O0NA/AAAAAAAAAAI/AAAAAAAACWk/V38QQR5ypvQ/s50-c-k-no/photo.jpg",
      "userId": "106338664803916304984"
     },
     "user_tz": -330
    },
    "id": "_NKc1OnFspvw",
    "outputId": "3b159adb-e81e-4453-ed52-de2ab8ad39e0"
   },
   "outputs": [
    {
     "name": "stdout",
     "output_type": "stream",
     "text": [
      "Same Side\n"
     ]
    },
    {
     "data": {
      "image/png": "[encoded data removed]",
      "text/plain": [
       "<matplotlib.figure.Figure at 0x7f52f28e71d0>"
      ]
     },
     "metadata": {
      "tags": []
     },
     "output_type": "display_data"
    },
    {
     "data": {
      "text/html": [
       "<div>\n",
       "<style scoped>\n",
       "    .dataframe tbody tr th:only-of-type {\n",
       "        vertical-align: middle;\n",
       "    }\n",
       "\n",
       "    .dataframe tbody tr th {\n",
       "        vertical-align: top;\n",
       "    }\n",
       "\n",
       "    .dataframe thead th {\n",
       "        text-align: right;\n",
       "    }\n",
       "</style>\n",
       "<table border=\"1\" class=\"dataframe\">\n",
       "  <thead>\n",
       "    <tr style=\"text-align: right;\">\n",
       "      <th></th>\n",
       "      <th>n</th>\n",
       "      <th>x_(n)</th>\n",
       "      <th>f(x_n)</th>\n",
       "      <th>x_(n) - x_(n-1)</th>\n",
       "      <th>x_(n+1)</th>\n",
       "    </tr>\n",
       "  </thead>\n",
       "  <tbody>\n",
       "    <tr>\n",
       "      <th>0</th>\n",
       "      <td>0.0</td>\n",
       "      <td>3.000000</td>\n",
       "      <td>-2.296998e+00</td>\n",
       "      <td>0.000000</td>\n",
       "      <td>0.000000</td>\n",
       "    </tr>\n",
       "    <tr>\n",
       "      <th>1</th>\n",
       "      <td>1.0</td>\n",
       "      <td>2.000000</td>\n",
       "      <td>-1.124844e+00</td>\n",
       "      <td>-1.000000</td>\n",
       "      <td>1.040361</td>\n",
       "    </tr>\n",
       "    <tr>\n",
       "      <th>2</th>\n",
       "      <td>2.0</td>\n",
       "      <td>1.040361</td>\n",
       "      <td>1.114113e-01</td>\n",
       "      <td>-0.959639</td>\n",
       "      <td>1.126844</td>\n",
       "    </tr>\n",
       "    <tr>\n",
       "      <th>3</th>\n",
       "      <td>3.0</td>\n",
       "      <td>1.126844</td>\n",
       "      <td>2.009717e-03</td>\n",
       "      <td>0.086483</td>\n",
       "      <td>1.128433</td>\n",
       "    </tr>\n",
       "    <tr>\n",
       "      <th>4</th>\n",
       "      <td>4.0</td>\n",
       "      <td>1.128433</td>\n",
       "      <td>-9.545113e-06</td>\n",
       "      <td>0.001589</td>\n",
       "      <td>1.128425</td>\n",
       "    </tr>\n",
       "    <tr>\n",
       "      <th>5</th>\n",
       "      <td>5.0</td>\n",
       "      <td>1.128425</td>\n",
       "      <td>7.633283e-10</td>\n",
       "      <td>-0.000008</td>\n",
       "      <td>1.128425</td>\n",
       "    </tr>\n",
       "  </tbody>\n",
       "</table>\n",
       "</div>"
      ],
      "text/plain": [
       "     n     x_(n)        f(x_n)  x_(n) - x_(n-1)   x_(n+1)\n",
       "0  0.0  3.000000 -2.296998e+00         0.000000  0.000000\n",
       "1  1.0  2.000000 -1.124844e+00        -1.000000  1.040361\n",
       "2  2.0  1.040361  1.114113e-01        -0.959639  1.126844\n",
       "3  3.0  1.126844  2.009717e-03         0.086483  1.128433\n",
       "4  4.0  1.128433 -9.545113e-06         0.001589  1.128425\n",
       "5  5.0  1.128425  7.633283e-10        -0.000008  1.128425"
      ]
     },
     "execution_count": 11,
     "metadata": {
      "tags": []
     },
     "output_type": "execute_result"
    }
   ],
   "source": [
    "f = lambda x: 1 + 0.3*np.cos(x) -x\n",
    "print(\"Same Side\")\n",
    "table = secantMethod(f, 3, 2)\n",
    "plt.stem(table['n'], table['f(x_n)'])\n",
    "plt.grid(True)\n",
    "plt.show()\n",
    "table"
   ]
  },
  {
   "cell_type": "code",
   "execution_count": 12,
   "metadata": {
    "colab": {
     "base_uri": "https://localhost:8080/",
     "height": 582
    },
    "colab_type": "code",
    "executionInfo": {
     "elapsed": 1076,
     "status": "ok",
     "timestamp": 1536410889251,
     "user": {
      "displayName": "Rutvik Shah",
      "photoUrl": "//lh6.googleusercontent.com/-WiC1AJ8O0NA/AAAAAAAAAAI/AAAAAAAACWk/V38QQR5ypvQ/s50-c-k-no/photo.jpg",
      "userId": "106338664803916304984"
     },
     "user_tz": -330
    },
    "id": "IHz7cuMFspvz",
    "outputId": "5a6b3fde-e561-446a-84d1-ee9866b0e5f4"
   },
   "outputs": [
    {
     "name": "stdout",
     "output_type": "stream",
     "text": [
      "Opposite Side\n"
     ]
    },
    {
     "data": {
      "image/png": "[encoded data removed]",
      "text/plain": [
       "<matplotlib.figure.Figure at 0x7f52f5255c88>"
      ]
     },
     "metadata": {
      "tags": []
     },
     "output_type": "display_data"
    },
    {
     "data": {
      "text/html": [
       "<div>\n",
       "<style scoped>\n",
       "    .dataframe tbody tr th:only-of-type {\n",
       "        vertical-align: middle;\n",
       "    }\n",
       "\n",
       "    .dataframe tbody tr th {\n",
       "        vertical-align: top;\n",
       "    }\n",
       "\n",
       "    .dataframe thead th {\n",
       "        text-align: right;\n",
       "    }\n",
       "</style>\n",
       "<table border=\"1\" class=\"dataframe\">\n",
       "  <thead>\n",
       "    <tr style=\"text-align: right;\">\n",
       "      <th></th>\n",
       "      <th>n</th>\n",
       "      <th>x_(n)</th>\n",
       "      <th>f(x_n)</th>\n",
       "      <th>x_(n) - x_(n-1)</th>\n",
       "      <th>x_(n+1)</th>\n",
       "    </tr>\n",
       "  </thead>\n",
       "  <tbody>\n",
       "    <tr>\n",
       "      <th>0</th>\n",
       "      <td>0.0</td>\n",
       "      <td>1.000000</td>\n",
       "      <td>8.011687e-01</td>\n",
       "      <td>0.000000</td>\n",
       "      <td>0.000000</td>\n",
       "    </tr>\n",
       "    <tr>\n",
       "      <th>1</th>\n",
       "      <td>1.0</td>\n",
       "      <td>0.000000</td>\n",
       "      <td>-5.000000e-01</td>\n",
       "      <td>-1.000000</td>\n",
       "      <td>0.384270</td>\n",
       "    </tr>\n",
       "    <tr>\n",
       "      <th>2</th>\n",
       "      <td>2.0</td>\n",
       "      <td>0.384270</td>\n",
       "      <td>-5.218996e-02</td>\n",
       "      <td>0.384270</td>\n",
       "      <td>0.429055</td>\n",
       "    </tr>\n",
       "    <tr>\n",
       "      <th>3</th>\n",
       "      <td>3.0</td>\n",
       "      <td>0.429055</td>\n",
       "      <td>6.651850e-03</td>\n",
       "      <td>0.044785</td>\n",
       "      <td>0.423992</td>\n",
       "    </tr>\n",
       "    <tr>\n",
       "      <th>4</th>\n",
       "      <td>4.0</td>\n",
       "      <td>0.423992</td>\n",
       "      <td>-5.181144e-05</td>\n",
       "      <td>-0.005063</td>\n",
       "      <td>0.424031</td>\n",
       "    </tr>\n",
       "    <tr>\n",
       "      <th>5</th>\n",
       "      <td>5.0</td>\n",
       "      <td>0.424031</td>\n",
       "      <td>-4.892623e-08</td>\n",
       "      <td>0.000039</td>\n",
       "      <td>0.424031</td>\n",
       "    </tr>\n",
       "  </tbody>\n",
       "</table>\n",
       "</div>"
      ],
      "text/plain": [
       "     n     x_(n)        f(x_n)  x_(n) - x_(n-1)   x_(n+1)\n",
       "0  0.0  1.000000  8.011687e-01         0.000000  0.000000\n",
       "1  1.0  0.000000 -5.000000e-01        -1.000000  0.384270\n",
       "2  2.0  0.384270 -5.218996e-02         0.384270  0.429055\n",
       "3  3.0  0.429055  6.651850e-03         0.044785  0.423992\n",
       "4  4.0  0.423992 -5.181144e-05        -0.005063  0.424031\n",
       "5  5.0  0.424031 -4.892623e-08         0.000039  0.424031"
      ]
     },
     "execution_count": 12,
     "metadata": {
      "tags": []
     },
     "output_type": "execute_result"
    }
   ],
   "source": [
    "f = lambda x: 0.5 - np.cos(x) + np.sin(x)\n",
    "print(\"Opposite Side\")\n",
    "table = secantMethod(f, 1, 0)\n",
    "plt.stem(table['n'], table['f(x_n)'])\n",
    "plt.grid(True)\n",
    "plt.show()\n",
    "table"
   ]
  },
  {
   "cell_type": "code",
   "execution_count": 13,
   "metadata": {
    "colab": {
     "base_uri": "https://localhost:8080/",
     "height": 613
    },
    "colab_type": "code",
    "executionInfo": {
     "elapsed": 1494,
     "status": "ok",
     "timestamp": 1536410890800,
     "user": {
      "displayName": "Rutvik Shah",
      "photoUrl": "//lh6.googleusercontent.com/-WiC1AJ8O0NA/AAAAAAAAAAI/AAAAAAAACWk/V38QQR5ypvQ/s50-c-k-no/photo.jpg",
      "userId": "106338664803916304984"
     },
     "user_tz": -330
    },
    "id": "OsBjt1Q7spv1",
    "outputId": "3c122b1d-5c89-42bc-b6d4-3948f59fbca0"
   },
   "outputs": [
    {
     "name": "stdout",
     "output_type": "stream",
     "text": [
      "Same Side\n"
     ]
    },
    {
     "data": {
      "image/png": "[encoded data removed]",
      "text/plain": [
       "<matplotlib.figure.Figure at 0x7f52f278bdd8>"
      ]
     },
     "metadata": {
      "tags": []
     },
     "output_type": "display_data"
    },
    {
     "data": {
      "text/html": [
       "<div>\n",
       "<style scoped>\n",
       "    .dataframe tbody tr th:only-of-type {\n",
       "        vertical-align: middle;\n",
       "    }\n",
       "\n",
       "    .dataframe tbody tr th {\n",
       "        vertical-align: top;\n",
       "    }\n",
       "\n",
       "    .dataframe thead th {\n",
       "        text-align: right;\n",
       "    }\n",
       "</style>\n",
       "<table border=\"1\" class=\"dataframe\">\n",
       "  <thead>\n",
       "    <tr style=\"text-align: right;\">\n",
       "      <th></th>\n",
       "      <th>n</th>\n",
       "      <th>x_(n)</th>\n",
       "      <th>f(x_n)</th>\n",
       "      <th>x_(n) - x_(n-1)</th>\n",
       "      <th>x_(n+1)</th>\n",
       "    </tr>\n",
       "  </thead>\n",
       "  <tbody>\n",
       "    <tr>\n",
       "      <th>0</th>\n",
       "      <td>0.0</td>\n",
       "      <td>2.000000</td>\n",
       "      <td>1.825444e+00</td>\n",
       "      <td>0.000000</td>\n",
       "      <td>0.000000</td>\n",
       "    </tr>\n",
       "    <tr>\n",
       "      <th>1</th>\n",
       "      <td>1.0</td>\n",
       "      <td>1.000000</td>\n",
       "      <td>8.011687e-01</td>\n",
       "      <td>-1.000000</td>\n",
       "      <td>0.217819</td>\n",
       "    </tr>\n",
       "    <tr>\n",
       "      <th>2</th>\n",
       "      <td>2.0</td>\n",
       "      <td>0.217819</td>\n",
       "      <td>-2.602702e-01</td>\n",
       "      <td>-0.782181</td>\n",
       "      <td>0.409614</td>\n",
       "    </tr>\n",
       "    <tr>\n",
       "      <th>3</th>\n",
       "      <td>3.0</td>\n",
       "      <td>0.409614</td>\n",
       "      <td>-1.901947e-02</td>\n",
       "      <td>0.191795</td>\n",
       "      <td>0.424734</td>\n",
       "    </tr>\n",
       "    <tr>\n",
       "      <th>4</th>\n",
       "      <td>4.0</td>\n",
       "      <td>0.424734</td>\n",
       "      <td>9.305833e-04</td>\n",
       "      <td>0.015121</td>\n",
       "      <td>0.424029</td>\n",
       "    </tr>\n",
       "    <tr>\n",
       "      <th>5</th>\n",
       "      <td>5.0</td>\n",
       "      <td>0.424029</td>\n",
       "      <td>-2.572486e-06</td>\n",
       "      <td>-0.000705</td>\n",
       "      <td>0.424031</td>\n",
       "    </tr>\n",
       "    <tr>\n",
       "      <th>6</th>\n",
       "      <td>6.0</td>\n",
       "      <td>0.424031</td>\n",
       "      <td>-3.416855e-10</td>\n",
       "      <td>0.000002</td>\n",
       "      <td>0.424031</td>\n",
       "    </tr>\n",
       "  </tbody>\n",
       "</table>\n",
       "</div>"
      ],
      "text/plain": [
       "     n     x_(n)        f(x_n)  x_(n) - x_(n-1)   x_(n+1)\n",
       "0  0.0  2.000000  1.825444e+00         0.000000  0.000000\n",
       "1  1.0  1.000000  8.011687e-01        -1.000000  0.217819\n",
       "2  2.0  0.217819 -2.602702e-01        -0.782181  0.409614\n",
       "3  3.0  0.409614 -1.901947e-02         0.191795  0.424734\n",
       "4  4.0  0.424734  9.305833e-04         0.015121  0.424029\n",
       "5  5.0  0.424029 -2.572486e-06        -0.000705  0.424031\n",
       "6  6.0  0.424031 -3.416855e-10         0.000002  0.424031"
      ]
     },
     "execution_count": 13,
     "metadata": {
      "tags": []
     },
     "output_type": "execute_result"
    }
   ],
   "source": [
    "f = lambda x: 0.5 - np.cos(x) + np.sin(x)\n",
    "print(\"Same Side\")\n",
    "table = secantMethod(f, 2, 1)\n",
    "plt.stem(table['n'], table['f(x_n)'])\n",
    "plt.grid(True)\n",
    "plt.show()\n",
    "table"
   ]
  },
  {
   "cell_type": "code",
   "execution_count": 14,
   "metadata": {
    "colab": {
     "base_uri": "https://localhost:8080/",
     "height": 582
    },
    "colab_type": "code",
    "executionInfo": {
     "elapsed": 1634,
     "status": "ok",
     "timestamp": 1536410892462,
     "user": {
      "displayName": "Rutvik Shah",
      "photoUrl": "//lh6.googleusercontent.com/-WiC1AJ8O0NA/AAAAAAAAAAI/AAAAAAAACWk/V38QQR5ypvQ/s50-c-k-no/photo.jpg",
      "userId": "106338664803916304984"
     },
     "user_tz": -330
    },
    "id": "dslWomfgspv5",
    "outputId": "719f5749-f1dc-4fe4-a129-b2fe62aebbe9"
   },
   "outputs": [
    {
     "name": "stdout",
     "output_type": "stream",
     "text": [
      "Opposite Side\n"
     ]
    },
    {
     "data": {
      "image/png": "[encoded data removed]",
      "text/plain": [
       "<matplotlib.figure.Figure at 0x7f52f2816470>"
      ]
     },
     "metadata": {
      "tags": []
     },
     "output_type": "display_data"
    },
    {
     "data": {
      "text/html": [
       "<div>\n",
       "<style scoped>\n",
       "    .dataframe tbody tr th:only-of-type {\n",
       "        vertical-align: middle;\n",
       "    }\n",
       "\n",
       "    .dataframe tbody tr th {\n",
       "        vertical-align: top;\n",
       "    }\n",
       "\n",
       "    .dataframe thead th {\n",
       "        text-align: right;\n",
       "    }\n",
       "</style>\n",
       "<table border=\"1\" class=\"dataframe\">\n",
       "  <thead>\n",
       "    <tr style=\"text-align: right;\">\n",
       "      <th></th>\n",
       "      <th>n</th>\n",
       "      <th>x_(n)</th>\n",
       "      <th>f(x_n)</th>\n",
       "      <th>x_(n) - x_(n-1)</th>\n",
       "      <th>x_(n+1)</th>\n",
       "    </tr>\n",
       "  </thead>\n",
       "  <tbody>\n",
       "    <tr>\n",
       "      <th>0</th>\n",
       "      <td>0.0</td>\n",
       "      <td>1.000000</td>\n",
       "      <td>-6.321206e-01</td>\n",
       "      <td>0.000000</td>\n",
       "      <td>0.000000</td>\n",
       "    </tr>\n",
       "    <tr>\n",
       "      <th>1</th>\n",
       "      <td>1.0</td>\n",
       "      <td>0.000000</td>\n",
       "      <td>1.000000e+00</td>\n",
       "      <td>-1.000000</td>\n",
       "      <td>0.612700</td>\n",
       "    </tr>\n",
       "    <tr>\n",
       "      <th>2</th>\n",
       "      <td>2.0</td>\n",
       "      <td>0.612700</td>\n",
       "      <td>-7.081395e-02</td>\n",
       "      <td>0.612700</td>\n",
       "      <td>0.572181</td>\n",
       "    </tr>\n",
       "    <tr>\n",
       "      <th>3</th>\n",
       "      <td>3.0</td>\n",
       "      <td>0.572181</td>\n",
       "      <td>-7.888273e-03</td>\n",
       "      <td>-0.040518</td>\n",
       "      <td>0.567102</td>\n",
       "    </tr>\n",
       "    <tr>\n",
       "      <th>4</th>\n",
       "      <td>4.0</td>\n",
       "      <td>0.567102</td>\n",
       "      <td>6.458283e-05</td>\n",
       "      <td>-0.005079</td>\n",
       "      <td>0.567143</td>\n",
       "    </tr>\n",
       "    <tr>\n",
       "      <th>5</th>\n",
       "      <td>5.0</td>\n",
       "      <td>0.567143</td>\n",
       "      <td>-5.883093e-08</td>\n",
       "      <td>0.000041</td>\n",
       "      <td>0.567143</td>\n",
       "    </tr>\n",
       "  </tbody>\n",
       "</table>\n",
       "</div>"
      ],
      "text/plain": [
       "     n     x_(n)        f(x_n)  x_(n) - x_(n-1)   x_(n+1)\n",
       "0  0.0  1.000000 -6.321206e-01         0.000000  0.000000\n",
       "1  1.0  0.000000  1.000000e+00        -1.000000  0.612700\n",
       "2  2.0  0.612700 -7.081395e-02         0.612700  0.572181\n",
       "3  3.0  0.572181 -7.888273e-03        -0.040518  0.567102\n",
       "4  4.0  0.567102  6.458283e-05        -0.005079  0.567143\n",
       "5  5.0  0.567143 -5.883093e-08         0.000041  0.567143"
      ]
     },
     "execution_count": 14,
     "metadata": {
      "tags": []
     },
     "output_type": "execute_result"
    }
   ],
   "source": [
    "f = lambda x: np.exp(-x) -x\n",
    "print(\"Opposite Side\")\n",
    "table = secantMethod(f, 1, 0)\n",
    "plt.stem(table['n'], table['f(x_n)'])\n",
    "plt.grid(True)\n",
    "plt.show()\n",
    "table"
   ]
  },
  {
   "cell_type": "code",
   "execution_count": 15,
   "metadata": {
    "colab": {
     "base_uri": "https://localhost:8080/",
     "height": 582
    },
    "colab_type": "code",
    "executionInfo": {
     "elapsed": 1645,
     "status": "ok",
     "timestamp": 1536410894140,
     "user": {
      "displayName": "Rutvik Shah",
      "photoUrl": "//lh6.googleusercontent.com/-WiC1AJ8O0NA/AAAAAAAAAAI/AAAAAAAACWk/V38QQR5ypvQ/s50-c-k-no/photo.jpg",
      "userId": "106338664803916304984"
     },
     "user_tz": -330
    },
    "id": "mVD1LoIAspv8",
    "outputId": "ad6bd86e-c9d0-4451-d836-5fbdcf6db681"
   },
   "outputs": [
    {
     "name": "stdout",
     "output_type": "stream",
     "text": [
      "Same Side\n"
     ]
    },
    {
     "data": {
      "image/png": "[encoded data removed]",
      "text/plain": [
       "<matplotlib.figure.Figure at 0x7f52f2709908>"
      ]
     },
     "metadata": {
      "tags": []
     },
     "output_type": "display_data"
    },
    {
     "data": {
      "text/html": [
       "<div>\n",
       "<style scoped>\n",
       "    .dataframe tbody tr th:only-of-type {\n",
       "        vertical-align: middle;\n",
       "    }\n",
       "\n",
       "    .dataframe tbody tr th {\n",
       "        vertical-align: top;\n",
       "    }\n",
       "\n",
       "    .dataframe thead th {\n",
       "        text-align: right;\n",
       "    }\n",
       "</style>\n",
       "<table border=\"1\" class=\"dataframe\">\n",
       "  <thead>\n",
       "    <tr style=\"text-align: right;\">\n",
       "      <th></th>\n",
       "      <th>n</th>\n",
       "      <th>x_(n)</th>\n",
       "      <th>f(x_n)</th>\n",
       "      <th>x_(n) - x_(n-1)</th>\n",
       "      <th>x_(n+1)</th>\n",
       "    </tr>\n",
       "  </thead>\n",
       "  <tbody>\n",
       "    <tr>\n",
       "      <th>0</th>\n",
       "      <td>0.0</td>\n",
       "      <td>2.000000</td>\n",
       "      <td>-1.864665e+00</td>\n",
       "      <td>0.000000</td>\n",
       "      <td>0.000000</td>\n",
       "    </tr>\n",
       "    <tr>\n",
       "      <th>1</th>\n",
       "      <td>1.0</td>\n",
       "      <td>1.000000</td>\n",
       "      <td>-6.321206e-01</td>\n",
       "      <td>-1.000000</td>\n",
       "      <td>0.487142</td>\n",
       "    </tr>\n",
       "    <tr>\n",
       "      <th>2</th>\n",
       "      <td>2.0</td>\n",
       "      <td>0.487142</td>\n",
       "      <td>1.272383e-01</td>\n",
       "      <td>-0.512858</td>\n",
       "      <td>0.573076</td>\n",
       "    </tr>\n",
       "    <tr>\n",
       "      <th>3</th>\n",
       "      <td>3.0</td>\n",
       "      <td>0.573076</td>\n",
       "      <td>-9.287930e-03</td>\n",
       "      <td>0.085935</td>\n",
       "      <td>0.567230</td>\n",
       "    </tr>\n",
       "    <tr>\n",
       "      <th>4</th>\n",
       "      <td>4.0</td>\n",
       "      <td>0.567230</td>\n",
       "      <td>-1.361124e-04</td>\n",
       "      <td>-0.005846</td>\n",
       "      <td>0.567143</td>\n",
       "    </tr>\n",
       "    <tr>\n",
       "      <th>5</th>\n",
       "      <td>5.0</td>\n",
       "      <td>0.567143</td>\n",
       "      <td>1.459943e-07</td>\n",
       "      <td>-0.000087</td>\n",
       "      <td>0.567143</td>\n",
       "    </tr>\n",
       "  </tbody>\n",
       "</table>\n",
       "</div>"
      ],
      "text/plain": [
       "     n     x_(n)        f(x_n)  x_(n) - x_(n-1)   x_(n+1)\n",
       "0  0.0  2.000000 -1.864665e+00         0.000000  0.000000\n",
       "1  1.0  1.000000 -6.321206e-01        -1.000000  0.487142\n",
       "2  2.0  0.487142  1.272383e-01        -0.512858  0.573076\n",
       "3  3.0  0.573076 -9.287930e-03         0.085935  0.567230\n",
       "4  4.0  0.567230 -1.361124e-04        -0.005846  0.567143\n",
       "5  5.0  0.567143  1.459943e-07        -0.000087  0.567143"
      ]
     },
     "execution_count": 15,
     "metadata": {
      "tags": []
     },
     "output_type": "execute_result"
    }
   ],
   "source": [
    "f = lambda x: np.exp(-x) -x\n",
    "print(\"Same Side\")\n",
    "table = secantMethod(f, 2, 1)\n",
    "plt.stem(table['n'], table['f(x_n)'])\n",
    "plt.grid(True)\n",
    "plt.show()\n",
    "table"
   ]
  },
  {
   "cell_type": "code",
   "execution_count": 16,
   "metadata": {
    "colab": {
     "base_uri": "https://localhost:8080/",
     "height": 613
    },
    "colab_type": "code",
    "executionInfo": {
     "elapsed": 1508,
     "status": "ok",
     "timestamp": 1536410895680,
     "user": {
      "displayName": "Rutvik Shah",
      "photoUrl": "//lh6.googleusercontent.com/-WiC1AJ8O0NA/AAAAAAAAAAI/AAAAAAAACWk/V38QQR5ypvQ/s50-c-k-no/photo.jpg",
      "userId": "106338664803916304984"
     },
     "user_tz": -330
    },
    "id": "uDu99NJ_spv_",
    "outputId": "7626572e-1236-48fd-ed04-937870893d39"
   },
   "outputs": [
    {
     "name": "stdout",
     "output_type": "stream",
     "text": [
      "Opposite Side\n"
     ]
    },
    {
     "data": {
      "image/png": "[encoded data removed]",
      "text/plain": [
       "<matplotlib.figure.Figure at 0x7f52f26e1390>"
      ]
     },
     "metadata": {
      "tags": []
     },
     "output_type": "display_data"
    },
    {
     "data": {
      "text/html": [
       "<div>\n",
       "<style scoped>\n",
       "    .dataframe tbody tr th:only-of-type {\n",
       "        vertical-align: middle;\n",
       "    }\n",
       "\n",
       "    .dataframe tbody tr th {\n",
       "        vertical-align: top;\n",
       "    }\n",
       "\n",
       "    .dataframe thead th {\n",
       "        text-align: right;\n",
       "    }\n",
       "</style>\n",
       "<table border=\"1\" class=\"dataframe\">\n",
       "  <thead>\n",
       "    <tr style=\"text-align: right;\">\n",
       "      <th></th>\n",
       "      <th>n</th>\n",
       "      <th>x_(n)</th>\n",
       "      <th>f(x_n)</th>\n",
       "      <th>x_(n) - x_(n-1)</th>\n",
       "      <th>x_(n+1)</th>\n",
       "    </tr>\n",
       "  </thead>\n",
       "  <tbody>\n",
       "    <tr>\n",
       "      <th>0</th>\n",
       "      <td>0.0</td>\n",
       "      <td>1.000000</td>\n",
       "      <td>4.735915e-01</td>\n",
       "      <td>0.000000</td>\n",
       "      <td>0.000000</td>\n",
       "    </tr>\n",
       "    <tr>\n",
       "      <th>1</th>\n",
       "      <td>1.0</td>\n",
       "      <td>0.000000</td>\n",
       "      <td>-1.000000e+00</td>\n",
       "      <td>-1.000000</td>\n",
       "      <td>0.678614</td>\n",
       "    </tr>\n",
       "    <tr>\n",
       "      <th>2</th>\n",
       "      <td>2.0</td>\n",
       "      <td>0.678614</td>\n",
       "      <td>1.203952e-01</td>\n",
       "      <td>0.678614</td>\n",
       "      <td>0.605692</td>\n",
       "    </tr>\n",
       "    <tr>\n",
       "      <th>3</th>\n",
       "      <td>3.0</td>\n",
       "      <td>0.605692</td>\n",
       "      <td>2.363407e-02</td>\n",
       "      <td>-0.072922</td>\n",
       "      <td>0.587880</td>\n",
       "    </tr>\n",
       "    <tr>\n",
       "      <th>4</th>\n",
       "      <td>4.0</td>\n",
       "      <td>0.587880</td>\n",
       "      <td>-9.050872e-04</td>\n",
       "      <td>-0.017811</td>\n",
       "      <td>0.588537</td>\n",
       "    </tr>\n",
       "    <tr>\n",
       "      <th>5</th>\n",
       "      <td>5.0</td>\n",
       "      <td>0.588537</td>\n",
       "      <td>6.264769e-06</td>\n",
       "      <td>0.000657</td>\n",
       "      <td>0.588533</td>\n",
       "    </tr>\n",
       "    <tr>\n",
       "      <th>6</th>\n",
       "      <td>6.0</td>\n",
       "      <td>0.588533</td>\n",
       "      <td>1.635542e-09</td>\n",
       "      <td>-0.000005</td>\n",
       "      <td>0.588533</td>\n",
       "    </tr>\n",
       "  </tbody>\n",
       "</table>\n",
       "</div>"
      ],
      "text/plain": [
       "     n     x_(n)        f(x_n)  x_(n) - x_(n-1)   x_(n+1)\n",
       "0  0.0  1.000000  4.735915e-01         0.000000  0.000000\n",
       "1  1.0  0.000000 -1.000000e+00        -1.000000  0.678614\n",
       "2  2.0  0.678614  1.203952e-01         0.678614  0.605692\n",
       "3  3.0  0.605692  2.363407e-02        -0.072922  0.587880\n",
       "4  4.0  0.587880 -9.050872e-04        -0.017811  0.588537\n",
       "5  5.0  0.588537  6.264769e-06         0.000657  0.588533\n",
       "6  6.0  0.588533  1.635542e-09        -0.000005  0.588533"
      ]
     },
     "execution_count": 16,
     "metadata": {
      "tags": []
     },
     "output_type": "execute_result"
    }
   ],
   "source": [
    "f = lambda x: np.sin(x) - np.exp(-x)\n",
    "print(\"Opposite Side\")\n",
    "table = secantMethod(f, 1, 0)\n",
    "plt.stem(table['n'], table['f(x_n)'])\n",
    "plt.grid(True)\n",
    "plt.show()\n",
    "table"
   ]
  },
  {
   "cell_type": "code",
   "execution_count": 17,
   "metadata": {
    "colab": {
     "base_uri": "https://localhost:8080/",
     "height": 644
    },
    "colab_type": "code",
    "executionInfo": {
     "elapsed": 1804,
     "status": "ok",
     "timestamp": 1536410897533,
     "user": {
      "displayName": "Rutvik Shah",
      "photoUrl": "//lh6.googleusercontent.com/-WiC1AJ8O0NA/AAAAAAAAAAI/AAAAAAAACWk/V38QQR5ypvQ/s50-c-k-no/photo.jpg",
      "userId": "106338664803916304984"
     },
     "user_tz": -330
    },
    "id": "WnDA7PWqspwB",
    "outputId": "f21a8b84-19a1-421b-bd94-2cf0bea3e919"
   },
   "outputs": [
    {
     "name": "stdout",
     "output_type": "stream",
     "text": [
      "Same Side\n"
     ]
    },
    {
     "data": {
      "image/png": "[encoded data removed]",
      "text/plain": [
       "<matplotlib.figure.Figure at 0x7f52f2668c50>"
      ]
     },
     "metadata": {
      "tags": []
     },
     "output_type": "display_data"
    },
    {
     "data": {
      "text/html": [
       "<div>\n",
       "<style scoped>\n",
       "    .dataframe tbody tr th:only-of-type {\n",
       "        vertical-align: middle;\n",
       "    }\n",
       "\n",
       "    .dataframe tbody tr th {\n",
       "        vertical-align: top;\n",
       "    }\n",
       "\n",
       "    .dataframe thead th {\n",
       "        text-align: right;\n",
       "    }\n",
       "</style>\n",
       "<table border=\"1\" class=\"dataframe\">\n",
       "  <thead>\n",
       "    <tr style=\"text-align: right;\">\n",
       "      <th></th>\n",
       "      <th>n</th>\n",
       "      <th>x_(n)</th>\n",
       "      <th>f(x_n)</th>\n",
       "      <th>x_(n) - x_(n-1)</th>\n",
       "      <th>x_(n+1)</th>\n",
       "    </tr>\n",
       "  </thead>\n",
       "  <tbody>\n",
       "    <tr>\n",
       "      <th>0</th>\n",
       "      <td>0.0</td>\n",
       "      <td>2.000000</td>\n",
       "      <td>7.739621e-01</td>\n",
       "      <td>0.000000</td>\n",
       "      <td>0.000000</td>\n",
       "    </tr>\n",
       "    <tr>\n",
       "      <th>1</th>\n",
       "      <td>1.0</td>\n",
       "      <td>1.000000</td>\n",
       "      <td>4.735915e-01</td>\n",
       "      <td>-1.000000</td>\n",
       "      <td>-0.576691</td>\n",
       "    </tr>\n",
       "    <tr>\n",
       "      <th>2</th>\n",
       "      <td>2.0</td>\n",
       "      <td>-0.576691</td>\n",
       "      <td>-2.325391e+00</td>\n",
       "      <td>-1.576691</td>\n",
       "      <td>0.733222</td>\n",
       "    </tr>\n",
       "    <tr>\n",
       "      <th>3</th>\n",
       "      <td>3.0</td>\n",
       "      <td>0.733222</td>\n",
       "      <td>1.889081e-01</td>\n",
       "      <td>1.309913</td>\n",
       "      <td>0.634803</td>\n",
       "    </tr>\n",
       "    <tr>\n",
       "      <th>4</th>\n",
       "      <td>4.0</td>\n",
       "      <td>0.634803</td>\n",
       "      <td>6.297963e-02</td>\n",
       "      <td>-0.098418</td>\n",
       "      <td>0.585582</td>\n",
       "    </tr>\n",
       "    <tr>\n",
       "      <th>5</th>\n",
       "      <td>5.0</td>\n",
       "      <td>0.585582</td>\n",
       "      <td>-4.096841e-03</td>\n",
       "      <td>-0.049221</td>\n",
       "      <td>0.588589</td>\n",
       "    </tr>\n",
       "    <tr>\n",
       "      <th>6</th>\n",
       "      <td>6.0</td>\n",
       "      <td>0.588589</td>\n",
       "      <td>7.740651e-05</td>\n",
       "      <td>0.003006</td>\n",
       "      <td>0.588533</td>\n",
       "    </tr>\n",
       "    <tr>\n",
       "      <th>7</th>\n",
       "      <td>7.0</td>\n",
       "      <td>0.588533</td>\n",
       "      <td>9.129174e-08</td>\n",
       "      <td>-0.000056</td>\n",
       "      <td>0.588533</td>\n",
       "    </tr>\n",
       "  </tbody>\n",
       "</table>\n",
       "</div>"
      ],
      "text/plain": [
       "     n     x_(n)        f(x_n)  x_(n) - x_(n-1)   x_(n+1)\n",
       "0  0.0  2.000000  7.739621e-01         0.000000  0.000000\n",
       "1  1.0  1.000000  4.735915e-01        -1.000000 -0.576691\n",
       "2  2.0 -0.576691 -2.325391e+00        -1.576691  0.733222\n",
       "3  3.0  0.733222  1.889081e-01         1.309913  0.634803\n",
       "4  4.0  0.634803  6.297963e-02        -0.098418  0.585582\n",
       "5  5.0  0.585582 -4.096841e-03        -0.049221  0.588589\n",
       "6  6.0  0.588589  7.740651e-05         0.003006  0.588533\n",
       "7  7.0  0.588533  9.129174e-08        -0.000056  0.588533"
      ]
     },
     "execution_count": 17,
     "metadata": {
      "tags": []
     },
     "output_type": "execute_result"
    }
   ],
   "source": [
    "f = lambda x: np.sin(x) - np.exp(-x)\n",
    "print(\"Same Side\")\n",
    "table = secantMethod(f, 2, 1)\n",
    "plt.stem(table['n'], table['f(x_n)'])\n",
    "plt.grid(True)\n",
    "plt.show()\n",
    "table"
   ]
  },
  {
   "cell_type": "code",
   "execution_count": 18,
   "metadata": {
    "colab": {
     "base_uri": "https://localhost:8080/",
     "height": 551
    },
    "colab_type": "code",
    "executionInfo": {
     "elapsed": 1689,
     "status": "ok",
     "timestamp": 1536410899256,
     "user": {
      "displayName": "Rutvik Shah",
      "photoUrl": "//lh6.googleusercontent.com/-WiC1AJ8O0NA/AAAAAAAAAAI/AAAAAAAACWk/V38QQR5ypvQ/s50-c-k-no/photo.jpg",
      "userId": "106338664803916304984"
     },
     "user_tz": -330
    },
    "id": "AeLvc3mIspwD",
    "outputId": "41fd2ad2-6f94-4e49-e38f-cd2e07d54016"
   },
   "outputs": [
    {
     "name": "stdout",
     "output_type": "stream",
     "text": [
      "Opposite Side\n"
     ]
    },
    {
     "data": {
      "image/png": "[encoded data removed]",
      "text/plain": [
       "<matplotlib.figure.Figure at 0x7f52f25e1320>"
      ]
     },
     "metadata": {
      "tags": []
     },
     "output_type": "display_data"
    },
    {
     "data": {
      "text/html": [
       "<div>\n",
       "<style scoped>\n",
       "    .dataframe tbody tr th:only-of-type {\n",
       "        vertical-align: middle;\n",
       "    }\n",
       "\n",
       "    .dataframe tbody tr th {\n",
       "        vertical-align: top;\n",
       "    }\n",
       "\n",
       "    .dataframe thead th {\n",
       "        text-align: right;\n",
       "    }\n",
       "</style>\n",
       "<table border=\"1\" class=\"dataframe\">\n",
       "  <thead>\n",
       "    <tr style=\"text-align: right;\">\n",
       "      <th></th>\n",
       "      <th>n</th>\n",
       "      <th>x_(n)</th>\n",
       "      <th>f(x_n)</th>\n",
       "      <th>x_(n) - x_(n-1)</th>\n",
       "      <th>x_(n+1)</th>\n",
       "    </tr>\n",
       "  </thead>\n",
       "  <tbody>\n",
       "    <tr>\n",
       "      <th>0</th>\n",
       "      <td>0.0</td>\n",
       "      <td>4.000000</td>\n",
       "      <td>-7.751181e-01</td>\n",
       "      <td>0.000000</td>\n",
       "      <td>0.000000</td>\n",
       "    </tr>\n",
       "    <tr>\n",
       "      <th>1</th>\n",
       "      <td>1.0</td>\n",
       "      <td>3.000000</td>\n",
       "      <td>9.133294e-02</td>\n",
       "      <td>-1.000000</td>\n",
       "      <td>3.105410</td>\n",
       "    </tr>\n",
       "    <tr>\n",
       "      <th>2</th>\n",
       "      <td>2.0</td>\n",
       "      <td>3.105410</td>\n",
       "      <td>-8.631751e-03</td>\n",
       "      <td>0.105410</td>\n",
       "      <td>3.096308</td>\n",
       "    </tr>\n",
       "    <tr>\n",
       "      <th>3</th>\n",
       "      <td>3.0</td>\n",
       "      <td>3.096308</td>\n",
       "      <td>5.295739e-05</td>\n",
       "      <td>-0.009102</td>\n",
       "      <td>3.096364</td>\n",
       "    </tr>\n",
       "    <tr>\n",
       "      <th>4</th>\n",
       "      <td>4.0</td>\n",
       "      <td>3.096364</td>\n",
       "      <td>2.191577e-08</td>\n",
       "      <td>0.000056</td>\n",
       "      <td>3.096364</td>\n",
       "    </tr>\n",
       "  </tbody>\n",
       "</table>\n",
       "</div>"
      ],
      "text/plain": [
       "     n     x_(n)        f(x_n)  x_(n) - x_(n-1)   x_(n+1)\n",
       "0  0.0  4.000000 -7.751181e-01         0.000000  0.000000\n",
       "1  1.0  3.000000  9.133294e-02        -1.000000  3.105410\n",
       "2  2.0  3.105410 -8.631751e-03         0.105410  3.096308\n",
       "3  3.0  3.096308  5.295739e-05        -0.009102  3.096364\n",
       "4  4.0  3.096364  2.191577e-08         0.000056  3.096364"
      ]
     },
     "execution_count": 18,
     "metadata": {
      "tags": []
     },
     "output_type": "execute_result"
    }
   ],
   "source": [
    "f = lambda x: np.sin(x) - np.exp(-x)\n",
    "print(\"Opposite Side\")\n",
    "table = secantMethod(f, 4, 3)\n",
    "plt.stem(table['n'], table['f(x_n)'])\n",
    "plt.grid(True)\n",
    "plt.show()\n",
    "table"
   ]
  },
  {
   "cell_type": "code",
   "execution_count": 19,
   "metadata": {
    "colab": {
     "base_uri": "https://localhost:8080/",
     "height": 582
    },
    "colab_type": "code",
    "executionInfo": {
     "elapsed": 1515,
     "status": "ok",
     "timestamp": 1536410900845,
     "user": {
      "displayName": "Rutvik Shah",
      "photoUrl": "//lh6.googleusercontent.com/-WiC1AJ8O0NA/AAAAAAAAAAI/AAAAAAAACWk/V38QQR5ypvQ/s50-c-k-no/photo.jpg",
      "userId": "106338664803916304984"
     },
     "user_tz": -330
    },
    "id": "tZSi71epspwG",
    "outputId": "a5170d35-a665-42fa-c6e1-7238a08eb6ba"
   },
   "outputs": [
    {
     "name": "stdout",
     "output_type": "stream",
     "text": [
      "Same Side\n"
     ]
    },
    {
     "data": {
      "image/png": "[encoded data removed]",
      "text/plain": [
       "<matplotlib.figure.Figure at 0x7f52f25651d0>"
      ]
     },
     "metadata": {
      "tags": []
     },
     "output_type": "display_data"
    },
    {
     "data": {
      "text/html": [
       "<div>\n",
       "<style scoped>\n",
       "    .dataframe tbody tr th:only-of-type {\n",
       "        vertical-align: middle;\n",
       "    }\n",
       "\n",
       "    .dataframe tbody tr th {\n",
       "        vertical-align: top;\n",
       "    }\n",
       "\n",
       "    .dataframe thead th {\n",
       "        text-align: right;\n",
       "    }\n",
       "</style>\n",
       "<table border=\"1\" class=\"dataframe\">\n",
       "  <thead>\n",
       "    <tr style=\"text-align: right;\">\n",
       "      <th></th>\n",
       "      <th>n</th>\n",
       "      <th>x_(n)</th>\n",
       "      <th>f(x_n)</th>\n",
       "      <th>x_(n) - x_(n-1)</th>\n",
       "      <th>x_(n+1)</th>\n",
       "    </tr>\n",
       "  </thead>\n",
       "  <tbody>\n",
       "    <tr>\n",
       "      <th>0</th>\n",
       "      <td>0.0</td>\n",
       "      <td>4.000000</td>\n",
       "      <td>-7.751181e-01</td>\n",
       "      <td>0.000000</td>\n",
       "      <td>0.000000</td>\n",
       "    </tr>\n",
       "    <tr>\n",
       "      <th>1</th>\n",
       "      <td>1.0</td>\n",
       "      <td>3.500000</td>\n",
       "      <td>-3.809806e-01</td>\n",
       "      <td>-0.500000</td>\n",
       "      <td>3.016691</td>\n",
       "    </tr>\n",
       "    <tr>\n",
       "      <th>2</th>\n",
       "      <td>2.0</td>\n",
       "      <td>3.016691</td>\n",
       "      <td>7.561441e-02</td>\n",
       "      <td>-0.483309</td>\n",
       "      <td>3.096729</td>\n",
       "    </tr>\n",
       "    <tr>\n",
       "      <th>3</th>\n",
       "      <td>3.0</td>\n",
       "      <td>3.096729</td>\n",
       "      <td>-3.483647e-04</td>\n",
       "      <td>0.080038</td>\n",
       "      <td>3.096362</td>\n",
       "    </tr>\n",
       "    <tr>\n",
       "      <th>4</th>\n",
       "      <td>4.0</td>\n",
       "      <td>3.096362</td>\n",
       "      <td>1.725728e-06</td>\n",
       "      <td>-0.000367</td>\n",
       "      <td>3.096364</td>\n",
       "    </tr>\n",
       "    <tr>\n",
       "      <th>5</th>\n",
       "      <td>5.0</td>\n",
       "      <td>3.096364</td>\n",
       "      <td>2.983775e-11</td>\n",
       "      <td>0.000002</td>\n",
       "      <td>3.096364</td>\n",
       "    </tr>\n",
       "  </tbody>\n",
       "</table>\n",
       "</div>"
      ],
      "text/plain": [
       "     n     x_(n)        f(x_n)  x_(n) - x_(n-1)   x_(n+1)\n",
       "0  0.0  4.000000 -7.751181e-01         0.000000  0.000000\n",
       "1  1.0  3.500000 -3.809806e-01        -0.500000  3.016691\n",
       "2  2.0  3.016691  7.561441e-02        -0.483309  3.096729\n",
       "3  3.0  3.096729 -3.483647e-04         0.080038  3.096362\n",
       "4  4.0  3.096362  1.725728e-06        -0.000367  3.096364\n",
       "5  5.0  3.096364  2.983775e-11         0.000002  3.096364"
      ]
     },
     "execution_count": 19,
     "metadata": {
      "tags": []
     },
     "output_type": "execute_result"
    }
   ],
   "source": [
    "f = lambda x: np.sin(x) - np.exp(-x)\n",
    "print(\"Same Side\")\n",
    "table = secantMethod(f, 4, 3.5)\n",
    "plt.stem(table['n'], table['f(x_n)'])\n",
    "plt.grid(True)\n",
    "plt.show()\n",
    "table"
   ]
  },
  {
   "cell_type": "code",
   "execution_count": 20,
   "metadata": {
    "colab": {
     "base_uri": "https://localhost:8080/",
     "height": 613
    },
    "colab_type": "code",
    "executionInfo": {
     "elapsed": 1691,
     "status": "ok",
     "timestamp": 1536410902584,
     "user": {
      "displayName": "Rutvik Shah",
      "photoUrl": "//lh6.googleusercontent.com/-WiC1AJ8O0NA/AAAAAAAAAAI/AAAAAAAACWk/V38QQR5ypvQ/s50-c-k-no/photo.jpg",
      "userId": "106338664803916304984"
     },
     "user_tz": -330
    },
    "id": "4W9MtKMRspwJ",
    "outputId": "b8dcaebb-4a9d-477a-f771-e7b782c40ec2"
   },
   "outputs": [
    {
     "name": "stdout",
     "output_type": "stream",
     "text": [
      "Same Side\n"
     ]
    },
    {
     "data": {
      "image/png": "[encoded data removed]",
      "text/plain": [
       "<matplotlib.figure.Figure at 0x7f52f24e94a8>"
      ]
     },
     "metadata": {
      "tags": []
     },
     "output_type": "display_data"
    },
    {
     "data": {
      "text/html": [
       "<div>\n",
       "<style scoped>\n",
       "    .dataframe tbody tr th:only-of-type {\n",
       "        vertical-align: middle;\n",
       "    }\n",
       "\n",
       "    .dataframe tbody tr th {\n",
       "        vertical-align: top;\n",
       "    }\n",
       "\n",
       "    .dataframe thead th {\n",
       "        text-align: right;\n",
       "    }\n",
       "</style>\n",
       "<table border=\"1\" class=\"dataframe\">\n",
       "  <thead>\n",
       "    <tr style=\"text-align: right;\">\n",
       "      <th></th>\n",
       "      <th>n</th>\n",
       "      <th>x_(n)</th>\n",
       "      <th>f(x_n)</th>\n",
       "      <th>x_(n) - x_(n-1)</th>\n",
       "      <th>x_(n+1)</th>\n",
       "    </tr>\n",
       "  </thead>\n",
       "  <tbody>\n",
       "    <tr>\n",
       "      <th>0</th>\n",
       "      <td>0</td>\n",
       "      <td>3</td>\n",
       "      <td>19</td>\n",
       "      <td>0</td>\n",
       "      <td>0</td>\n",
       "    </tr>\n",
       "    <tr>\n",
       "      <th>1</th>\n",
       "      <td>1</td>\n",
       "      <td>2</td>\n",
       "      <td>2</td>\n",
       "      <td>-1</td>\n",
       "      <td>1.88235</td>\n",
       "    </tr>\n",
       "    <tr>\n",
       "      <th>2</th>\n",
       "      <td>2</td>\n",
       "      <td>1.88235</td>\n",
       "      <td>0.904946</td>\n",
       "      <td>-0.117647</td>\n",
       "      <td>1.78513</td>\n",
       "    </tr>\n",
       "    <tr>\n",
       "      <th>3</th>\n",
       "      <td>3</td>\n",
       "      <td>1.78513</td>\n",
       "      <td>0.118395</td>\n",
       "      <td>-0.0972228</td>\n",
       "      <td>1.7705</td>\n",
       "    </tr>\n",
       "    <tr>\n",
       "      <th>4</th>\n",
       "      <td>4</td>\n",
       "      <td>1.7705</td>\n",
       "      <td>0.00890179</td>\n",
       "      <td>-0.0146344</td>\n",
       "      <td>1.76931</td>\n",
       "    </tr>\n",
       "    <tr>\n",
       "      <th>5</th>\n",
       "      <td>5</td>\n",
       "      <td>1.76931</td>\n",
       "      <td>0.000100254</td>\n",
       "      <td>-0.00118977</td>\n",
       "      <td>1.76929</td>\n",
       "    </tr>\n",
       "    <tr>\n",
       "      <th>6</th>\n",
       "      <td>6</td>\n",
       "      <td>1.76929</td>\n",
       "      <td>8.65786e-08</td>\n",
       "      <td>-1.35521e-05</td>\n",
       "      <td>1.76929</td>\n",
       "    </tr>\n",
       "  </tbody>\n",
       "</table>\n",
       "</div>"
      ],
      "text/plain": [
       "   n    x_(n)       f(x_n) x_(n) - x_(n-1)  x_(n+1)\n",
       "0  0        3           19               0        0\n",
       "1  1        2            2              -1  1.88235\n",
       "2  2  1.88235     0.904946       -0.117647  1.78513\n",
       "3  3  1.78513     0.118395      -0.0972228   1.7705\n",
       "4  4   1.7705   0.00890179      -0.0146344  1.76931\n",
       "5  5  1.76931  0.000100254     -0.00118977  1.76929\n",
       "6  6  1.76929  8.65786e-08    -1.35521e-05  1.76929"
      ]
     },
     "execution_count": 20,
     "metadata": {
      "tags": []
     },
     "output_type": "execute_result"
    }
   ],
   "source": [
    "f = lambda x: x**3 -2*x -2\n",
    "print(\"Same Side\")\n",
    "table = secantMethod(f, 3, 2)\n",
    "plt.stem(table['n'], table['f(x_n)'])\n",
    "plt.grid(True)\n",
    "plt.show()\n",
    "table"
   ]
  },
  {
   "cell_type": "code",
   "execution_count": 21,
   "metadata": {
    "colab": {
     "base_uri": "https://localhost:8080/",
     "height": 644
    },
    "colab_type": "code",
    "executionInfo": {
     "elapsed": 1491,
     "status": "ok",
     "timestamp": 1536410904124,
     "user": {
      "displayName": "Rutvik Shah",
      "photoUrl": "//lh6.googleusercontent.com/-WiC1AJ8O0NA/AAAAAAAAAAI/AAAAAAAACWk/V38QQR5ypvQ/s50-c-k-no/photo.jpg",
      "userId": "106338664803916304984"
     },
     "user_tz": -330
    },
    "id": "2_ofzndJspwL",
    "outputId": "a5d31a4d-3572-44f9-c027-1cb227591926"
   },
   "outputs": [
    {
     "name": "stdout",
     "output_type": "stream",
     "text": [
      "Opposite Side\n"
     ]
    },
    {
     "data": {
      "image/png": "[encoded data removed]",
      "text/plain": [
       "<matplotlib.figure.Figure at 0x7f52f25e1588>"
      ]
     },
     "metadata": {
      "tags": []
     },
     "output_type": "display_data"
    },
    {
     "data": {
      "text/html": [
       "<div>\n",
       "<style scoped>\n",
       "    .dataframe tbody tr th:only-of-type {\n",
       "        vertical-align: middle;\n",
       "    }\n",
       "\n",
       "    .dataframe tbody tr th {\n",
       "        vertical-align: top;\n",
       "    }\n",
       "\n",
       "    .dataframe thead th {\n",
       "        text-align: right;\n",
       "    }\n",
       "</style>\n",
       "<table border=\"1\" class=\"dataframe\">\n",
       "  <thead>\n",
       "    <tr style=\"text-align: right;\">\n",
       "      <th></th>\n",
       "      <th>n</th>\n",
       "      <th>x_(n)</th>\n",
       "      <th>f(x_n)</th>\n",
       "      <th>x_(n) - x_(n-1)</th>\n",
       "      <th>x_(n+1)</th>\n",
       "    </tr>\n",
       "  </thead>\n",
       "  <tbody>\n",
       "    <tr>\n",
       "      <th>0</th>\n",
       "      <td>0</td>\n",
       "      <td>2</td>\n",
       "      <td>2</td>\n",
       "      <td>0</td>\n",
       "      <td>0</td>\n",
       "    </tr>\n",
       "    <tr>\n",
       "      <th>1</th>\n",
       "      <td>1</td>\n",
       "      <td>1</td>\n",
       "      <td>-3</td>\n",
       "      <td>-1</td>\n",
       "      <td>1.6</td>\n",
       "    </tr>\n",
       "    <tr>\n",
       "      <th>2</th>\n",
       "      <td>2</td>\n",
       "      <td>1.6</td>\n",
       "      <td>-1.104</td>\n",
       "      <td>0.6</td>\n",
       "      <td>1.94937</td>\n",
       "    </tr>\n",
       "    <tr>\n",
       "      <th>3</th>\n",
       "      <td>3</td>\n",
       "      <td>1.94937</td>\n",
       "      <td>1.50892</td>\n",
       "      <td>0.349367</td>\n",
       "      <td>1.74761</td>\n",
       "    </tr>\n",
       "    <tr>\n",
       "      <th>4</th>\n",
       "      <td>4</td>\n",
       "      <td>1.74761</td>\n",
       "      <td>-0.157752</td>\n",
       "      <td>-0.201754</td>\n",
       "      <td>1.76671</td>\n",
       "    </tr>\n",
       "    <tr>\n",
       "      <th>5</th>\n",
       "      <td>5</td>\n",
       "      <td>1.76671</td>\n",
       "      <td>-0.0190577</td>\n",
       "      <td>0.0190962</td>\n",
       "      <td>1.76933</td>\n",
       "    </tr>\n",
       "    <tr>\n",
       "      <th>6</th>\n",
       "      <td>6</td>\n",
       "      <td>1.76933</td>\n",
       "      <td>0.000301132</td>\n",
       "      <td>0.00262397</td>\n",
       "      <td>1.76929</td>\n",
       "    </tr>\n",
       "    <tr>\n",
       "      <th>7</th>\n",
       "      <td>7</td>\n",
       "      <td>1.76929</td>\n",
       "      <td>-5.5937e-07</td>\n",
       "      <td>-4.08165e-05</td>\n",
       "      <td>1.76929</td>\n",
       "    </tr>\n",
       "  </tbody>\n",
       "</table>\n",
       "</div>"
      ],
      "text/plain": [
       "   n    x_(n)       f(x_n) x_(n) - x_(n-1)  x_(n+1)\n",
       "0  0        2            2               0        0\n",
       "1  1        1           -3              -1      1.6\n",
       "2  2      1.6       -1.104             0.6  1.94937\n",
       "3  3  1.94937      1.50892        0.349367  1.74761\n",
       "4  4  1.74761    -0.157752       -0.201754  1.76671\n",
       "5  5  1.76671   -0.0190577       0.0190962  1.76933\n",
       "6  6  1.76933  0.000301132      0.00262397  1.76929\n",
       "7  7  1.76929  -5.5937e-07    -4.08165e-05  1.76929"
      ]
     },
     "execution_count": 21,
     "metadata": {
      "tags": []
     },
     "output_type": "execute_result"
    }
   ],
   "source": [
    "f = lambda x: x**3 -2*x -2\n",
    "print(\"Opposite Side\")\n",
    "table = secantMethod(f, 2, 1)\n",
    "plt.stem(table['n'], table['f(x_n)'])\n",
    "plt.grid(True)\n",
    "plt.show()\n",
    "table"
   ]
  },
  {
   "cell_type": "code",
   "execution_count": 22,
   "metadata": {
    "colab": {
     "base_uri": "https://localhost:8080/",
     "height": 644
    },
    "colab_type": "code",
    "executionInfo": {
     "elapsed": 1531,
     "status": "ok",
     "timestamp": 1536410905682,
     "user": {
      "displayName": "Rutvik Shah",
      "photoUrl": "//lh6.googleusercontent.com/-WiC1AJ8O0NA/AAAAAAAAAAI/AAAAAAAACWk/V38QQR5ypvQ/s50-c-k-no/photo.jpg",
      "userId": "106338664803916304984"
     },
     "user_tz": -330
    },
    "id": "02YS09KPspwO",
    "outputId": "13dccbaf-17d8-466e-8705-79165a4a6c8e"
   },
   "outputs": [
    {
     "name": "stdout",
     "output_type": "stream",
     "text": [
      "Opposite Side\n"
     ]
    },
    {
     "data": {
      "image/png": "[encoded data removed]",
      "text/plain": [
       "<matplotlib.figure.Figure at 0x7f52f2658c50>"
      ]
     },
     "metadata": {
      "tags": []
     },
     "output_type": "display_data"
    },
    {
     "data": {
      "text/html": [
       "<div>\n",
       "<style scoped>\n",
       "    .dataframe tbody tr th:only-of-type {\n",
       "        vertical-align: middle;\n",
       "    }\n",
       "\n",
       "    .dataframe tbody tr th {\n",
       "        vertical-align: top;\n",
       "    }\n",
       "\n",
       "    .dataframe thead th {\n",
       "        text-align: right;\n",
       "    }\n",
       "</style>\n",
       "<table border=\"1\" class=\"dataframe\">\n",
       "  <thead>\n",
       "    <tr style=\"text-align: right;\">\n",
       "      <th></th>\n",
       "      <th>n</th>\n",
       "      <th>x_(n)</th>\n",
       "      <th>f(x_n)</th>\n",
       "      <th>x_(n) - x_(n-1)</th>\n",
       "      <th>x_(n+1)</th>\n",
       "    </tr>\n",
       "  </thead>\n",
       "  <tbody>\n",
       "    <tr>\n",
       "      <th>0</th>\n",
       "      <td>0</td>\n",
       "      <td>2</td>\n",
       "      <td>13</td>\n",
       "      <td>0</td>\n",
       "      <td>0</td>\n",
       "    </tr>\n",
       "    <tr>\n",
       "      <th>1</th>\n",
       "      <td>1</td>\n",
       "      <td>1</td>\n",
       "      <td>-1</td>\n",
       "      <td>-1</td>\n",
       "      <td>1.07143</td>\n",
       "    </tr>\n",
       "    <tr>\n",
       "      <th>2</th>\n",
       "      <td>2</td>\n",
       "      <td>1.07143</td>\n",
       "      <td>-0.753618</td>\n",
       "      <td>0.0714286</td>\n",
       "      <td>1.28991</td>\n",
       "    </tr>\n",
       "    <tr>\n",
       "      <th>3</th>\n",
       "      <td>3</td>\n",
       "      <td>1.28991</td>\n",
       "      <td>0.478548</td>\n",
       "      <td>0.218482</td>\n",
       "      <td>1.20506</td>\n",
       "    </tr>\n",
       "    <tr>\n",
       "      <th>4</th>\n",
       "      <td>4</td>\n",
       "      <td>1.20506</td>\n",
       "      <td>-0.0962846</td>\n",
       "      <td>-0.0848537</td>\n",
       "      <td>1.21927</td>\n",
       "    </tr>\n",
       "    <tr>\n",
       "      <th>5</th>\n",
       "      <td>5</td>\n",
       "      <td>1.21927</td>\n",
       "      <td>-0.00923606</td>\n",
       "      <td>0.014213</td>\n",
       "      <td>1.22078</td>\n",
       "    </tr>\n",
       "    <tr>\n",
       "      <th>6</th>\n",
       "      <td>6</td>\n",
       "      <td>1.22078</td>\n",
       "      <td>0.000210003</td>\n",
       "      <td>0.00150804</td>\n",
       "      <td>1.22074</td>\n",
       "    </tr>\n",
       "    <tr>\n",
       "      <th>7</th>\n",
       "      <td>7</td>\n",
       "      <td>1.22074</td>\n",
       "      <td>-4.41665e-07</td>\n",
       "      <td>-3.35264e-05</td>\n",
       "      <td>1.22074</td>\n",
       "    </tr>\n",
       "  </tbody>\n",
       "</table>\n",
       "</div>"
      ],
      "text/plain": [
       "   n    x_(n)       f(x_n) x_(n) - x_(n-1)  x_(n+1)\n",
       "0  0        2           13               0        0\n",
       "1  1        1           -1              -1  1.07143\n",
       "2  2  1.07143    -0.753618       0.0714286  1.28991\n",
       "3  3  1.28991     0.478548        0.218482  1.20506\n",
       "4  4  1.20506   -0.0962846      -0.0848537  1.21927\n",
       "5  5  1.21927  -0.00923606        0.014213  1.22078\n",
       "6  6  1.22078  0.000210003      0.00150804  1.22074\n",
       "7  7  1.22074 -4.41665e-07    -3.35264e-05  1.22074"
      ]
     },
     "execution_count": 22,
     "metadata": {
      "tags": []
     },
     "output_type": "execute_result"
    }
   ],
   "source": [
    "f = lambda x: x**4 -x -1\n",
    "print(\"Opposite Side\")\n",
    "table = secantMethod(f, 2, 1)\n",
    "plt.stem(table['n'], table['f(x_n)'])\n",
    "plt.grid(True)\n",
    "plt.show()\n",
    "table"
   ]
  },
  {
   "cell_type": "code",
   "execution_count": 23,
   "metadata": {
    "colab": {
     "base_uri": "https://localhost:8080/",
     "height": 707
    },
    "colab_type": "code",
    "executionInfo": {
     "elapsed": 1471,
     "status": "ok",
     "timestamp": 1536410907202,
     "user": {
      "displayName": "Rutvik Shah",
      "photoUrl": "//lh6.googleusercontent.com/-WiC1AJ8O0NA/AAAAAAAAAAI/AAAAAAAACWk/V38QQR5ypvQ/s50-c-k-no/photo.jpg",
      "userId": "106338664803916304984"
     },
     "user_tz": -330
    },
    "id": "w8xypt9PspwQ",
    "outputId": "a7c29074-a21d-4e44-e2ff-703f86c4cbda"
   },
   "outputs": [
    {
     "name": "stdout",
     "output_type": "stream",
     "text": [
      "Same Side\n"
     ]
    },
    {
     "data": {
      "image/png": "[encoded data removed]",
      "text/plain": [
       "<matplotlib.figure.Figure at 0x7f52f25e71d0>"
      ]
     },
     "metadata": {
      "tags": []
     },
     "output_type": "display_data"
    },
    {
     "data": {
      "text/html": [
       "<div>\n",
       "<style scoped>\n",
       "    .dataframe tbody tr th:only-of-type {\n",
       "        vertical-align: middle;\n",
       "    }\n",
       "\n",
       "    .dataframe tbody tr th {\n",
       "        vertical-align: top;\n",
       "    }\n",
       "\n",
       "    .dataframe thead th {\n",
       "        text-align: right;\n",
       "    }\n",
       "</style>\n",
       "<table border=\"1\" class=\"dataframe\">\n",
       "  <thead>\n",
       "    <tr style=\"text-align: right;\">\n",
       "      <th></th>\n",
       "      <th>n</th>\n",
       "      <th>x_(n)</th>\n",
       "      <th>f(x_n)</th>\n",
       "      <th>x_(n) - x_(n-1)</th>\n",
       "      <th>x_(n+1)</th>\n",
       "    </tr>\n",
       "  </thead>\n",
       "  <tbody>\n",
       "    <tr>\n",
       "      <th>0</th>\n",
       "      <td>0</td>\n",
       "      <td>3</td>\n",
       "      <td>77</td>\n",
       "      <td>0</td>\n",
       "      <td>0</td>\n",
       "    </tr>\n",
       "    <tr>\n",
       "      <th>1</th>\n",
       "      <td>1</td>\n",
       "      <td>2</td>\n",
       "      <td>13</td>\n",
       "      <td>-1</td>\n",
       "      <td>1.79688</td>\n",
       "    </tr>\n",
       "    <tr>\n",
       "      <th>2</th>\n",
       "      <td>2</td>\n",
       "      <td>1.79688</td>\n",
       "      <td>7.62801</td>\n",
       "      <td>-0.203125</td>\n",
       "      <td>1.50845</td>\n",
       "    </tr>\n",
       "    <tr>\n",
       "      <th>3</th>\n",
       "      <td>3</td>\n",
       "      <td>1.50845</td>\n",
       "      <td>2.66903</td>\n",
       "      <td>-0.28843</td>\n",
       "      <td>1.35321</td>\n",
       "    </tr>\n",
       "    <tr>\n",
       "      <th>4</th>\n",
       "      <td>4</td>\n",
       "      <td>1.35321</td>\n",
       "      <td>0.999965</td>\n",
       "      <td>-0.155239</td>\n",
       "      <td>1.2602</td>\n",
       "    </tr>\n",
       "    <tr>\n",
       "      <th>5</th>\n",
       "      <td>5</td>\n",
       "      <td>1.2602</td>\n",
       "      <td>0.261873</td>\n",
       "      <td>-0.0930064</td>\n",
       "      <td>1.2272</td>\n",
       "    </tr>\n",
       "    <tr>\n",
       "      <th>6</th>\n",
       "      <td>6</td>\n",
       "      <td>1.2272</td>\n",
       "      <td>0.0409049</td>\n",
       "      <td>-0.0329983</td>\n",
       "      <td>1.22109</td>\n",
       "    </tr>\n",
       "    <tr>\n",
       "      <th>7</th>\n",
       "      <td>7</td>\n",
       "      <td>1.22109</td>\n",
       "      <td>0.00219036</td>\n",
       "      <td>-0.00610855</td>\n",
       "      <td>1.22075</td>\n",
       "    </tr>\n",
       "    <tr>\n",
       "      <th>8</th>\n",
       "      <td>8</td>\n",
       "      <td>1.22075</td>\n",
       "      <td>2.00186e-05</td>\n",
       "      <td>-0.000345605</td>\n",
       "      <td>1.22074</td>\n",
       "    </tr>\n",
       "    <tr>\n",
       "      <th>9</th>\n",
       "      <td>9</td>\n",
       "      <td>1.22074</td>\n",
       "      <td>9.94345e-09</td>\n",
       "      <td>-3.18776e-06</td>\n",
       "      <td>1.22074</td>\n",
       "    </tr>\n",
       "  </tbody>\n",
       "</table>\n",
       "</div>"
      ],
      "text/plain": [
       "   n    x_(n)       f(x_n) x_(n) - x_(n-1)  x_(n+1)\n",
       "0  0        3           77               0        0\n",
       "1  1        2           13              -1  1.79688\n",
       "2  2  1.79688      7.62801       -0.203125  1.50845\n",
       "3  3  1.50845      2.66903        -0.28843  1.35321\n",
       "4  4  1.35321     0.999965       -0.155239   1.2602\n",
       "5  5   1.2602     0.261873      -0.0930064   1.2272\n",
       "6  6   1.2272    0.0409049      -0.0329983  1.22109\n",
       "7  7  1.22109   0.00219036     -0.00610855  1.22075\n",
       "8  8  1.22075  2.00186e-05    -0.000345605  1.22074\n",
       "9  9  1.22074  9.94345e-09    -3.18776e-06  1.22074"
      ]
     },
     "execution_count": 23,
     "metadata": {
      "tags": []
     },
     "output_type": "execute_result"
    }
   ],
   "source": [
    "f = lambda x: x**4 -x -1\n",
    "print(\"Same Side\")\n",
    "table = secantMethod(f, 3, 2)\n",
    "plt.stem(table['n'], table['f(x_n)'])\n",
    "plt.grid(True)\n",
    "plt.show()\n",
    "table"
   ]
  },
  {
   "cell_type": "code",
   "execution_count": 24,
   "metadata": {
    "colab": {
     "base_uri": "https://localhost:8080/",
     "height": 675
    },
    "colab_type": "code",
    "executionInfo": {
     "elapsed": 1740,
     "status": "ok",
     "timestamp": 1536410908971,
     "user": {
      "displayName": "Rutvik Shah",
      "photoUrl": "//lh6.googleusercontent.com/-WiC1AJ8O0NA/AAAAAAAAAAI/AAAAAAAACWk/V38QQR5ypvQ/s50-c-k-no/photo.jpg",
      "userId": "106338664803916304984"
     },
     "user_tz": -330
    },
    "id": "bq6J2vTespwT",
    "outputId": "b91d7c3a-1fa6-44d7-8900-d4fb6d2a9d25"
   },
   "outputs": [
    {
     "name": "stdout",
     "output_type": "stream",
     "text": [
      "Opposite Side\n"
     ]
    },
    {
     "data": {
      "image/png": "[encoded data removed]",
      "text/plain": [
       "<matplotlib.figure.Figure at 0x7f52f28e1a58>"
      ]
     },
     "metadata": {
      "tags": []
     },
     "output_type": "display_data"
    },
    {
     "data": {
      "text/html": [
       "<div>\n",
       "<style scoped>\n",
       "    .dataframe tbody tr th:only-of-type {\n",
       "        vertical-align: middle;\n",
       "    }\n",
       "\n",
       "    .dataframe tbody tr th {\n",
       "        vertical-align: top;\n",
       "    }\n",
       "\n",
       "    .dataframe thead th {\n",
       "        text-align: right;\n",
       "    }\n",
       "</style>\n",
       "<table border=\"1\" class=\"dataframe\">\n",
       "  <thead>\n",
       "    <tr style=\"text-align: right;\">\n",
       "      <th></th>\n",
       "      <th>n</th>\n",
       "      <th>x_(n)</th>\n",
       "      <th>f(x_n)</th>\n",
       "      <th>x_(n) - x_(n-1)</th>\n",
       "      <th>x_(n+1)</th>\n",
       "    </tr>\n",
       "  </thead>\n",
       "  <tbody>\n",
       "    <tr>\n",
       "      <th>0</th>\n",
       "      <td>0</td>\n",
       "      <td>-1</td>\n",
       "      <td>1</td>\n",
       "      <td>0</td>\n",
       "      <td>0</td>\n",
       "    </tr>\n",
       "    <tr>\n",
       "      <th>1</th>\n",
       "      <td>1</td>\n",
       "      <td>0</td>\n",
       "      <td>-1</td>\n",
       "      <td>1</td>\n",
       "      <td>-0.5</td>\n",
       "    </tr>\n",
       "    <tr>\n",
       "      <th>2</th>\n",
       "      <td>2</td>\n",
       "      <td>-0.5</td>\n",
       "      <td>-0.4375</td>\n",
       "      <td>-0.5</td>\n",
       "      <td>-0.888889</td>\n",
       "    </tr>\n",
       "    <tr>\n",
       "      <th>3</th>\n",
       "      <td>3</td>\n",
       "      <td>-0.888889</td>\n",
       "      <td>0.513184</td>\n",
       "      <td>-0.388889</td>\n",
       "      <td>-0.678965</td>\n",
       "    </tr>\n",
       "    <tr>\n",
       "      <th>4</th>\n",
       "      <td>4</td>\n",
       "      <td>-0.678965</td>\n",
       "      <td>-0.108521</td>\n",
       "      <td>0.209924</td>\n",
       "      <td>-0.715608</td>\n",
       "    </tr>\n",
       "    <tr>\n",
       "      <th>5</th>\n",
       "      <td>5</td>\n",
       "      <td>-0.715608</td>\n",
       "      <td>-0.0221517</td>\n",
       "      <td>-0.036643</td>\n",
       "      <td>-0.725006</td>\n",
       "    </tr>\n",
       "    <tr>\n",
       "      <th>6</th>\n",
       "      <td>6</td>\n",
       "      <td>-0.725006</td>\n",
       "      <td>0.00129622</td>\n",
       "      <td>-0.00939808</td>\n",
       "      <td>-0.724486</td>\n",
       "    </tr>\n",
       "    <tr>\n",
       "      <th>7</th>\n",
       "      <td>7</td>\n",
       "      <td>-0.724486</td>\n",
       "      <td>-1.44153e-05</td>\n",
       "      <td>0.000519533</td>\n",
       "      <td>-0.724492</td>\n",
       "    </tr>\n",
       "    <tr>\n",
       "      <th>8</th>\n",
       "      <td>8</td>\n",
       "      <td>-0.724492</td>\n",
       "      <td>-9.25098e-09</td>\n",
       "      <td>-5.71421e-06</td>\n",
       "      <td>-0.724492</td>\n",
       "    </tr>\n",
       "  </tbody>\n",
       "</table>\n",
       "</div>"
      ],
      "text/plain": [
       "   n     x_(n)       f(x_n) x_(n) - x_(n-1)   x_(n+1)\n",
       "0  0        -1            1               0         0\n",
       "1  1         0           -1               1      -0.5\n",
       "2  2      -0.5      -0.4375            -0.5 -0.888889\n",
       "3  3 -0.888889     0.513184       -0.388889 -0.678965\n",
       "4  4 -0.678965    -0.108521        0.209924 -0.715608\n",
       "5  5 -0.715608   -0.0221517       -0.036643 -0.725006\n",
       "6  6 -0.725006   0.00129622     -0.00939808 -0.724486\n",
       "7  7 -0.724486 -1.44153e-05     0.000519533 -0.724492\n",
       "8  8 -0.724492 -9.25098e-09    -5.71421e-06 -0.724492"
      ]
     },
     "execution_count": 24,
     "metadata": {
      "tags": []
     },
     "output_type": "execute_result"
    }
   ],
   "source": [
    "f = lambda x: x**4 -x -1\n",
    "print(\"Opposite Side\")\n",
    "table = secantMethod(f, -1, 0)\n",
    "plt.stem(table['n'], table['f(x_n)'])\n",
    "plt.grid(True)\n",
    "plt.show()\n",
    "table"
   ]
  },
  {
   "cell_type": "code",
   "execution_count": 25,
   "metadata": {
    "colab": {
     "base_uri": "https://localhost:8080/",
     "height": 644
    },
    "colab_type": "code",
    "executionInfo": {
     "elapsed": 1870,
     "status": "ok",
     "timestamp": 1536410910890,
     "user": {
      "displayName": "Rutvik Shah",
      "photoUrl": "//lh6.googleusercontent.com/-WiC1AJ8O0NA/AAAAAAAAAAI/AAAAAAAACWk/V38QQR5ypvQ/s50-c-k-no/photo.jpg",
      "userId": "106338664803916304984"
     },
     "user_tz": -330
    },
    "id": "203W8aNqspwV",
    "outputId": "e6166b7d-00f5-4770-d976-11494f035603"
   },
   "outputs": [
    {
     "name": "stdout",
     "output_type": "stream",
     "text": [
      "Same Side\n"
     ]
    },
    {
     "data": {
      "image/png": "[encoded data removed]",
      "text/plain": [
       "<matplotlib.figure.Figure at 0x7f52f290f4a8>"
      ]
     },
     "metadata": {
      "tags": []
     },
     "output_type": "display_data"
    },
    {
     "data": {
      "text/html": [
       "<div>\n",
       "<style scoped>\n",
       "    .dataframe tbody tr th:only-of-type {\n",
       "        vertical-align: middle;\n",
       "    }\n",
       "\n",
       "    .dataframe tbody tr th {\n",
       "        vertical-align: top;\n",
       "    }\n",
       "\n",
       "    .dataframe thead th {\n",
       "        text-align: right;\n",
       "    }\n",
       "</style>\n",
       "<table border=\"1\" class=\"dataframe\">\n",
       "  <thead>\n",
       "    <tr style=\"text-align: right;\">\n",
       "      <th></th>\n",
       "      <th>n</th>\n",
       "      <th>x_(n)</th>\n",
       "      <th>f(x_n)</th>\n",
       "      <th>x_(n) - x_(n-1)</th>\n",
       "      <th>x_(n+1)</th>\n",
       "    </tr>\n",
       "  </thead>\n",
       "  <tbody>\n",
       "    <tr>\n",
       "      <th>0</th>\n",
       "      <td>0</td>\n",
       "      <td>-2</td>\n",
       "      <td>17</td>\n",
       "      <td>0</td>\n",
       "      <td>0</td>\n",
       "    </tr>\n",
       "    <tr>\n",
       "      <th>1</th>\n",
       "      <td>1</td>\n",
       "      <td>-1</td>\n",
       "      <td>1</td>\n",
       "      <td>1</td>\n",
       "      <td>-0.9375</td>\n",
       "    </tr>\n",
       "    <tr>\n",
       "      <th>2</th>\n",
       "      <td>2</td>\n",
       "      <td>-0.9375</td>\n",
       "      <td>0.709976</td>\n",
       "      <td>0.0625</td>\n",
       "      <td>-0.7845</td>\n",
       "    </tr>\n",
       "    <tr>\n",
       "      <th>3</th>\n",
       "      <td>3</td>\n",
       "      <td>-0.7845</td>\n",
       "      <td>0.163268</td>\n",
       "      <td>0.153</td>\n",
       "      <td>-0.738809</td>\n",
       "    </tr>\n",
       "    <tr>\n",
       "      <th>4</th>\n",
       "      <td>4</td>\n",
       "      <td>-0.738809</td>\n",
       "      <td>0.0367487</td>\n",
       "      <td>0.0456915</td>\n",
       "      <td>-0.725537</td>\n",
       "    </tr>\n",
       "    <tr>\n",
       "      <th>5</th>\n",
       "      <td>5</td>\n",
       "      <td>-0.725537</td>\n",
       "      <td>0.00263908</td>\n",
       "      <td>0.0132715</td>\n",
       "      <td>-0.724511</td>\n",
       "    </tr>\n",
       "    <tr>\n",
       "      <th>6</th>\n",
       "      <td>6</td>\n",
       "      <td>-0.724511</td>\n",
       "      <td>4.68959e-05</td>\n",
       "      <td>0.00102683</td>\n",
       "      <td>-0.724492</td>\n",
       "    </tr>\n",
       "    <tr>\n",
       "      <th>7</th>\n",
       "      <td>7</td>\n",
       "      <td>-0.724492</td>\n",
       "      <td>6.12199e-08</td>\n",
       "      <td>1.85766e-05</td>\n",
       "      <td>-0.724492</td>\n",
       "    </tr>\n",
       "  </tbody>\n",
       "</table>\n",
       "</div>"
      ],
      "text/plain": [
       "   n     x_(n)       f(x_n) x_(n) - x_(n-1)   x_(n+1)\n",
       "0  0        -2           17               0         0\n",
       "1  1        -1            1               1   -0.9375\n",
       "2  2   -0.9375     0.709976          0.0625   -0.7845\n",
       "3  3   -0.7845     0.163268           0.153 -0.738809\n",
       "4  4 -0.738809    0.0367487       0.0456915 -0.725537\n",
       "5  5 -0.725537   0.00263908       0.0132715 -0.724511\n",
       "6  6 -0.724511  4.68959e-05      0.00102683 -0.724492\n",
       "7  7 -0.724492  6.12199e-08     1.85766e-05 -0.724492"
      ]
     },
     "execution_count": 25,
     "metadata": {
      "tags": []
     },
     "output_type": "execute_result"
    }
   ],
   "source": [
    "f = lambda x: x**4 -x -1\n",
    "print(\"Same Side\")\n",
    "table = secantMethod(f, -2, -1)\n",
    "plt.stem(table['n'], table['f(x_n)'])\n",
    "plt.grid(True)\n",
    "plt.show()\n",
    "table"
   ]
  },
  {
   "cell_type": "code",
   "execution_count": 26,
   "metadata": {
    "colab": {
     "base_uri": "https://localhost:8080/",
     "height": 613
    },
    "colab_type": "code",
    "executionInfo": {
     "elapsed": 1510,
     "status": "ok",
     "timestamp": 1536410912471,
     "user": {
      "displayName": "Rutvik Shah",
      "photoUrl": "//lh6.googleusercontent.com/-WiC1AJ8O0NA/AAAAAAAAAAI/AAAAAAAACWk/V38QQR5ypvQ/s50-c-k-no/photo.jpg",
      "userId": "106338664803916304984"
     },
     "user_tz": -330
    },
    "id": "F0dy-KLPspwY",
    "outputId": "993b49d0-389c-4e3f-bf35-d0e994b9e2ad"
   },
   "outputs": [
    {
     "name": "stdout",
     "output_type": "stream",
     "text": [
      "Opposite Side\n"
     ]
    },
    {
     "data": {
      "image/png": "[encoded data removed]",
      "text/plain": [
       "<matplotlib.figure.Figure at 0x7f52f295ada0>"
      ]
     },
     "metadata": {
      "tags": []
     },
     "output_type": "display_data"
    },
    {
     "data": {
      "text/html": [
       "<div>\n",
       "<style scoped>\n",
       "    .dataframe tbody tr th:only-of-type {\n",
       "        vertical-align: middle;\n",
       "    }\n",
       "\n",
       "    .dataframe tbody tr th {\n",
       "        vertical-align: top;\n",
       "    }\n",
       "\n",
       "    .dataframe thead th {\n",
       "        text-align: right;\n",
       "    }\n",
       "</style>\n",
       "<table border=\"1\" class=\"dataframe\">\n",
       "  <thead>\n",
       "    <tr style=\"text-align: right;\">\n",
       "      <th></th>\n",
       "      <th>n</th>\n",
       "      <th>x_(n)</th>\n",
       "      <th>f(x_n)</th>\n",
       "      <th>x_(n) - x_(n-1)</th>\n",
       "      <th>x_(n+1)</th>\n",
       "    </tr>\n",
       "  </thead>\n",
       "  <tbody>\n",
       "    <tr>\n",
       "      <th>0</th>\n",
       "      <td>0.0</td>\n",
       "      <td>2.000000</td>\n",
       "      <td>3.389056e+00</td>\n",
       "      <td>0.000000</td>\n",
       "      <td>0.000000</td>\n",
       "    </tr>\n",
       "    <tr>\n",
       "      <th>1</th>\n",
       "      <td>1.0</td>\n",
       "      <td>1.000000</td>\n",
       "      <td>-2.817182e-01</td>\n",
       "      <td>-1.000000</td>\n",
       "      <td>1.076746</td>\n",
       "    </tr>\n",
       "    <tr>\n",
       "      <th>2</th>\n",
       "      <td>2.0</td>\n",
       "      <td>1.076746</td>\n",
       "      <td>-1.416324e-01</td>\n",
       "      <td>0.076746</td>\n",
       "      <td>1.154340</td>\n",
       "    </tr>\n",
       "    <tr>\n",
       "      <th>3</th>\n",
       "      <td>3.0</td>\n",
       "      <td>1.154340</td>\n",
       "      <td>1.758882e-02</td>\n",
       "      <td>0.077594</td>\n",
       "      <td>1.145768</td>\n",
       "    </tr>\n",
       "    <tr>\n",
       "      <th>4</th>\n",
       "      <td>4.0</td>\n",
       "      <td>1.145768</td>\n",
       "      <td>-9.118716e-04</td>\n",
       "      <td>-0.008572</td>\n",
       "      <td>1.146191</td>\n",
       "    </tr>\n",
       "    <tr>\n",
       "      <th>5</th>\n",
       "      <td>5.0</td>\n",
       "      <td>1.146191</td>\n",
       "      <td>-5.429890e-06</td>\n",
       "      <td>0.000422</td>\n",
       "      <td>1.146193</td>\n",
       "    </tr>\n",
       "    <tr>\n",
       "      <th>6</th>\n",
       "      <td>6.0</td>\n",
       "      <td>1.146193</td>\n",
       "      <td>1.691815e-09</td>\n",
       "      <td>0.000003</td>\n",
       "      <td>1.146193</td>\n",
       "    </tr>\n",
       "  </tbody>\n",
       "</table>\n",
       "</div>"
      ],
      "text/plain": [
       "     n     x_(n)        f(x_n)  x_(n) - x_(n-1)   x_(n+1)\n",
       "0  0.0  2.000000  3.389056e+00         0.000000  0.000000\n",
       "1  1.0  1.000000 -2.817182e-01        -1.000000  1.076746\n",
       "2  2.0  1.076746 -1.416324e-01         0.076746  1.154340\n",
       "3  3.0  1.154340  1.758882e-02         0.077594  1.145768\n",
       "4  4.0  1.145768 -9.118716e-04        -0.008572  1.146191\n",
       "5  5.0  1.146191 -5.429890e-06         0.000422  1.146193\n",
       "6  6.0  1.146193  1.691815e-09         0.000003  1.146193"
      ]
     },
     "execution_count": 26,
     "metadata": {
      "tags": []
     },
     "output_type": "execute_result"
    }
   ],
   "source": [
    "f = lambda x: np.exp(x) -x -2\n",
    "print(\"Opposite Side\")\n",
    "table = secantMethod(f, 2, 1)\n",
    "plt.stem(table['n'], table['f(x_n)'])\n",
    "plt.grid(True)\n",
    "plt.show()\n",
    "table"
   ]
  },
  {
   "cell_type": "code",
   "execution_count": 27,
   "metadata": {
    "colab": {
     "base_uri": "https://localhost:8080/",
     "height": 675
    },
    "colab_type": "code",
    "executionInfo": {
     "elapsed": 1310,
     "status": "ok",
     "timestamp": 1536410931038,
     "user": {
      "displayName": "Rutvik Shah",
      "photoUrl": "//lh6.googleusercontent.com/-WiC1AJ8O0NA/AAAAAAAAAAI/AAAAAAAACWk/V38QQR5ypvQ/s50-c-k-no/photo.jpg",
      "userId": "106338664803916304984"
     },
     "user_tz": -330
    },
    "id": "Ynai35_6spwa",
    "outputId": "d3485040-697f-4539-8ed9-f5a67a7e41a5"
   },
   "outputs": [
    {
     "name": "stdout",
     "output_type": "stream",
     "text": [
      "Same Side\n"
     ]
    },
    {
     "data": {
      "image/png": "[encoded data removed]",
      "text/plain": [
       "<matplotlib.figure.Figure at 0x7f52f27bd748>"
      ]
     },
     "metadata": {
      "tags": []
     },
     "output_type": "display_data"
    },
    {
     "data": {
      "text/html": [
       "<div>\n",
       "<style scoped>\n",
       "    .dataframe tbody tr th:only-of-type {\n",
       "        vertical-align: middle;\n",
       "    }\n",
       "\n",
       "    .dataframe tbody tr th {\n",
       "        vertical-align: top;\n",
       "    }\n",
       "\n",
       "    .dataframe thead th {\n",
       "        text-align: right;\n",
       "    }\n",
       "</style>\n",
       "<table border=\"1\" class=\"dataframe\">\n",
       "  <thead>\n",
       "    <tr style=\"text-align: right;\">\n",
       "      <th></th>\n",
       "      <th>n</th>\n",
       "      <th>x_(n)</th>\n",
       "      <th>f(x_n)</th>\n",
       "      <th>x_(n) - x_(n-1)</th>\n",
       "      <th>x_(n+1)</th>\n",
       "    </tr>\n",
       "  </thead>\n",
       "  <tbody>\n",
       "    <tr>\n",
       "      <th>0</th>\n",
       "      <td>0.0</td>\n",
       "      <td>3.000000</td>\n",
       "      <td>1.508554e+01</td>\n",
       "      <td>0.000000</td>\n",
       "      <td>0.000000</td>\n",
       "    </tr>\n",
       "    <tr>\n",
       "      <th>1</th>\n",
       "      <td>1.0</td>\n",
       "      <td>2.000000</td>\n",
       "      <td>3.389056e+00</td>\n",
       "      <td>-1.000000</td>\n",
       "      <td>1.710250</td>\n",
       "    </tr>\n",
       "    <tr>\n",
       "      <th>2</th>\n",
       "      <td>2.0</td>\n",
       "      <td>1.710250</td>\n",
       "      <td>1.820094e+00</td>\n",
       "      <td>-0.289750</td>\n",
       "      <td>1.374122</td>\n",
       "    </tr>\n",
       "    <tr>\n",
       "      <th>3</th>\n",
       "      <td>3.0</td>\n",
       "      <td>1.374122</td>\n",
       "      <td>5.774835e-01</td>\n",
       "      <td>-0.336128</td>\n",
       "      <td>1.217912</td>\n",
       "    </tr>\n",
       "    <tr>\n",
       "      <th>4</th>\n",
       "      <td>4.0</td>\n",
       "      <td>1.217912</td>\n",
       "      <td>1.622100e-01</td>\n",
       "      <td>-0.156210</td>\n",
       "      <td>1.156894</td>\n",
       "    </tr>\n",
       "    <tr>\n",
       "      <th>5</th>\n",
       "      <td>5.0</td>\n",
       "      <td>1.156894</td>\n",
       "      <td>2.314768e-02</td>\n",
       "      <td>-0.061017</td>\n",
       "      <td>1.146738</td>\n",
       "    </tr>\n",
       "    <tr>\n",
       "      <th>6</th>\n",
       "      <td>6.0</td>\n",
       "      <td>1.146738</td>\n",
       "      <td>1.169207e-03</td>\n",
       "      <td>-0.010157</td>\n",
       "      <td>1.146197</td>\n",
       "    </tr>\n",
       "    <tr>\n",
       "      <th>7</th>\n",
       "      <td>7.0</td>\n",
       "      <td>1.146197</td>\n",
       "      <td>9.126217e-06</td>\n",
       "      <td>-0.000540</td>\n",
       "      <td>1.146193</td>\n",
       "    </tr>\n",
       "    <tr>\n",
       "      <th>8</th>\n",
       "      <td>8.0</td>\n",
       "      <td>1.146193</td>\n",
       "      <td>3.641917e-09</td>\n",
       "      <td>-0.000004</td>\n",
       "      <td>1.146193</td>\n",
       "    </tr>\n",
       "  </tbody>\n",
       "</table>\n",
       "</div>"
      ],
      "text/plain": [
       "     n     x_(n)        f(x_n)  x_(n) - x_(n-1)   x_(n+1)\n",
       "0  0.0  3.000000  1.508554e+01         0.000000  0.000000\n",
       "1  1.0  2.000000  3.389056e+00        -1.000000  1.710250\n",
       "2  2.0  1.710250  1.820094e+00        -0.289750  1.374122\n",
       "3  3.0  1.374122  5.774835e-01        -0.336128  1.217912\n",
       "4  4.0  1.217912  1.622100e-01        -0.156210  1.156894\n",
       "5  5.0  1.156894  2.314768e-02        -0.061017  1.146738\n",
       "6  6.0  1.146738  1.169207e-03        -0.010157  1.146197\n",
       "7  7.0  1.146197  9.126217e-06        -0.000540  1.146193\n",
       "8  8.0  1.146193  3.641917e-09        -0.000004  1.146193"
      ]
     },
     "execution_count": 27,
     "metadata": {
      "tags": []
     },
     "output_type": "execute_result"
    }
   ],
   "source": [
    "f = lambda x: np.exp(x) -x -2\n",
    "print(\"Same Side\")\n",
    "table = secantMethod(f, 3, 2)\n",
    "plt.stem(table['n'], table['f(x_n)'])\n",
    "plt.grid(True)\n",
    "plt.show()\n",
    "table"
   ]
  },
  {
   "cell_type": "code",
   "execution_count": 28,
   "metadata": {
    "colab": {
     "base_uri": "https://localhost:8080/",
     "height": 706
    },
    "colab_type": "code",
    "executionInfo": {
     "elapsed": 1528,
     "status": "ok",
     "timestamp": 1536410932624,
     "user": {
      "displayName": "Rutvik Shah",
      "photoUrl": "//lh6.googleusercontent.com/-WiC1AJ8O0NA/AAAAAAAAAAI/AAAAAAAACWk/V38QQR5ypvQ/s50-c-k-no/photo.jpg",
      "userId": "106338664803916304984"
     },
     "user_tz": -330
    },
    "id": "tlcyEsM3spwb",
    "outputId": "69e3da5f-2f76-49fc-e4fa-263424cf7079"
   },
   "outputs": [
    {
     "name": "stdout",
     "output_type": "stream",
     "text": [
      "Opposite Side\n"
     ]
    },
    {
     "data": {
      "image/png": "[encoded data removed]",
      "text/plain": [
       "<matplotlib.figure.Figure at 0x7f52f28b8c88>"
      ]
     },
     "metadata": {
      "tags": []
     },
     "output_type": "display_data"
    },
    {
     "data": {
      "text/html": [
       "<div>\n",
       "<style scoped>\n",
       "    .dataframe tbody tr th:only-of-type {\n",
       "        vertical-align: middle;\n",
       "    }\n",
       "\n",
       "    .dataframe tbody tr th {\n",
       "        vertical-align: top;\n",
       "    }\n",
       "\n",
       "    .dataframe thead th {\n",
       "        text-align: right;\n",
       "    }\n",
       "</style>\n",
       "<table border=\"1\" class=\"dataframe\">\n",
       "  <thead>\n",
       "    <tr style=\"text-align: right;\">\n",
       "      <th></th>\n",
       "      <th>n</th>\n",
       "      <th>x_(n)</th>\n",
       "      <th>f(x_n)</th>\n",
       "      <th>x_(n) - x_(n-1)</th>\n",
       "      <th>x_(n+1)</th>\n",
       "    </tr>\n",
       "  </thead>\n",
       "  <tbody>\n",
       "    <tr>\n",
       "      <th>0</th>\n",
       "      <td>0.0</td>\n",
       "      <td>1.000000</td>\n",
       "      <td>8.414710e-01</td>\n",
       "      <td>0.000000e+00</td>\n",
       "      <td>0.000000</td>\n",
       "    </tr>\n",
       "    <tr>\n",
       "      <th>1</th>\n",
       "      <td>1.0</td>\n",
       "      <td>0.000000</td>\n",
       "      <td>1.000000e+00</td>\n",
       "      <td>-1.000000e+00</td>\n",
       "      <td>6.307994</td>\n",
       "    </tr>\n",
       "    <tr>\n",
       "      <th>2</th>\n",
       "      <td>2.0</td>\n",
       "      <td>6.307994</td>\n",
       "      <td>-5.283188e+00</td>\n",
       "      <td>6.307994e+00</td>\n",
       "      <td>1.003948</td>\n",
       "    </tr>\n",
       "    <tr>\n",
       "      <th>3</th>\n",
       "      <td>3.0</td>\n",
       "      <td>1.003948</td>\n",
       "      <td>8.396496e-01</td>\n",
       "      <td>-5.304046e+00</td>\n",
       "      <td>1.731313</td>\n",
       "    </tr>\n",
       "    <tr>\n",
       "      <th>4</th>\n",
       "      <td>4.0</td>\n",
       "      <td>1.731313</td>\n",
       "      <td>2.558315e-01</td>\n",
       "      <td>7.273653e-01</td>\n",
       "      <td>2.050048</td>\n",
       "    </tr>\n",
       "    <tr>\n",
       "      <th>5</th>\n",
       "      <td>5.0</td>\n",
       "      <td>2.050048</td>\n",
       "      <td>-1.627075e-01</td>\n",
       "      <td>3.187346e-01</td>\n",
       "      <td>1.926139</td>\n",
       "    </tr>\n",
       "    <tr>\n",
       "      <th>6</th>\n",
       "      <td>6.0</td>\n",
       "      <td>1.926139</td>\n",
       "      <td>1.138776e-02</td>\n",
       "      <td>-1.239084e-01</td>\n",
       "      <td>1.934244</td>\n",
       "    </tr>\n",
       "    <tr>\n",
       "      <th>7</th>\n",
       "      <td>7.0</td>\n",
       "      <td>1.934244</td>\n",
       "      <td>4.321935e-04</td>\n",
       "      <td>8.104986e-03</td>\n",
       "      <td>1.934564</td>\n",
       "    </tr>\n",
       "    <tr>\n",
       "      <th>8</th>\n",
       "      <td>8.0</td>\n",
       "      <td>1.934564</td>\n",
       "      <td>-1.260111e-06</td>\n",
       "      <td>3.197389e-04</td>\n",
       "      <td>1.934563</td>\n",
       "    </tr>\n",
       "    <tr>\n",
       "      <th>9</th>\n",
       "      <td>9.0</td>\n",
       "      <td>1.934563</td>\n",
       "      <td>1.384806e-10</td>\n",
       "      <td>-9.295262e-07</td>\n",
       "      <td>1.934563</td>\n",
       "    </tr>\n",
       "  </tbody>\n",
       "</table>\n",
       "</div>"
      ],
      "text/plain": [
       "     n     x_(n)        f(x_n)  x_(n) - x_(n-1)   x_(n+1)\n",
       "0  0.0  1.000000  8.414710e-01     0.000000e+00  0.000000\n",
       "1  1.0  0.000000  1.000000e+00    -1.000000e+00  6.307994\n",
       "2  2.0  6.307994 -5.283188e+00     6.307994e+00  1.003948\n",
       "3  3.0  1.003948  8.396496e-01    -5.304046e+00  1.731313\n",
       "4  4.0  1.731313  2.558315e-01     7.273653e-01  2.050048\n",
       "5  5.0  2.050048 -1.627075e-01     3.187346e-01  1.926139\n",
       "6  6.0  1.926139  1.138776e-02    -1.239084e-01  1.934244\n",
       "7  7.0  1.934244  4.321935e-04     8.104986e-03  1.934564\n",
       "8  8.0  1.934564 -1.260111e-06     3.197389e-04  1.934563\n",
       "9  9.0  1.934563  1.384806e-10    -9.295262e-07  1.934563"
      ]
     },
     "execution_count": 28,
     "metadata": {
      "tags": []
     },
     "output_type": "execute_result"
    }
   ],
   "source": [
    "f = lambda x: 1 -x + np.sin(x)\n",
    "print(\"Opposite Side\")\n",
    "table = secantMethod(f, 1, 0)\n",
    "plt.stem(table['n'], table['f(x_n)'])\n",
    "plt.grid(True)\n",
    "plt.show()\n",
    "table"
   ]
  },
  {
   "cell_type": "code",
   "execution_count": 29,
   "metadata": {
    "colab": {
     "base_uri": "https://localhost:8080/",
     "height": 613
    },
    "colab_type": "code",
    "executionInfo": {
     "elapsed": 1073,
     "status": "ok",
     "timestamp": 1536410933819,
     "user": {
      "displayName": "Rutvik Shah",
      "photoUrl": "//lh6.googleusercontent.com/-WiC1AJ8O0NA/AAAAAAAAAAI/AAAAAAAACWk/V38QQR5ypvQ/s50-c-k-no/photo.jpg",
      "userId": "106338664803916304984"
     },
     "user_tz": -330
    },
    "id": "1g6lDR7rspwd",
    "outputId": "e0b49aa3-6e1d-490b-93f3-db841bd5802c"
   },
   "outputs": [
    {
     "name": "stdout",
     "output_type": "stream",
     "text": [
      "Same Side\n"
     ]
    },
    {
     "data": {
      "image/png": "[encoded data removed]",
      "text/plain": [
       "<matplotlib.figure.Figure at 0x7f52f278f8d0>"
      ]
     },
     "metadata": {
      "tags": []
     },
     "output_type": "display_data"
    },
    {
     "data": {
      "text/html": [
       "<div>\n",
       "<style scoped>\n",
       "    .dataframe tbody tr th:only-of-type {\n",
       "        vertical-align: middle;\n",
       "    }\n",
       "\n",
       "    .dataframe tbody tr th {\n",
       "        vertical-align: top;\n",
       "    }\n",
       "\n",
       "    .dataframe thead th {\n",
       "        text-align: right;\n",
       "    }\n",
       "</style>\n",
       "<table border=\"1\" class=\"dataframe\">\n",
       "  <thead>\n",
       "    <tr style=\"text-align: right;\">\n",
       "      <th></th>\n",
       "      <th>n</th>\n",
       "      <th>x_(n)</th>\n",
       "      <th>f(x_n)</th>\n",
       "      <th>x_(n) - x_(n-1)</th>\n",
       "      <th>x_(n+1)</th>\n",
       "    </tr>\n",
       "  </thead>\n",
       "  <tbody>\n",
       "    <tr>\n",
       "      <th>0</th>\n",
       "      <td>0.0</td>\n",
       "      <td>2.000000</td>\n",
       "      <td>-9.070257e-02</td>\n",
       "      <td>0.000000</td>\n",
       "      <td>0.000000</td>\n",
       "    </tr>\n",
       "    <tr>\n",
       "      <th>1</th>\n",
       "      <td>1.0</td>\n",
       "      <td>1.000000</td>\n",
       "      <td>8.414710e-01</td>\n",
       "      <td>-1.000000</td>\n",
       "      <td>1.902698</td>\n",
       "    </tr>\n",
       "    <tr>\n",
       "      <th>2</th>\n",
       "      <td>2.0</td>\n",
       "      <td>1.902698</td>\n",
       "      <td>4.272672e-02</td>\n",
       "      <td>0.902698</td>\n",
       "      <td>1.950985</td>\n",
       "    </tr>\n",
       "    <tr>\n",
       "      <th>3</th>\n",
       "      <td>3.0</td>\n",
       "      <td>1.950985</td>\n",
       "      <td>-2.239065e-02</td>\n",
       "      <td>0.048287</td>\n",
       "      <td>1.934382</td>\n",
       "    </tr>\n",
       "    <tr>\n",
       "      <th>4</th>\n",
       "      <td>4.0</td>\n",
       "      <td>1.934382</td>\n",
       "      <td>2.462931e-04</td>\n",
       "      <td>-0.016604</td>\n",
       "      <td>1.934562</td>\n",
       "    </tr>\n",
       "    <tr>\n",
       "      <th>5</th>\n",
       "      <td>5.0</td>\n",
       "      <td>1.934562</td>\n",
       "      <td>1.383453e-06</td>\n",
       "      <td>0.000181</td>\n",
       "      <td>1.934563</td>\n",
       "    </tr>\n",
       "    <tr>\n",
       "      <th>6</th>\n",
       "      <td>6.0</td>\n",
       "      <td>1.934563</td>\n",
       "      <td>-8.663037e-11</td>\n",
       "      <td>0.000001</td>\n",
       "      <td>1.934563</td>\n",
       "    </tr>\n",
       "  </tbody>\n",
       "</table>\n",
       "</div>"
      ],
      "text/plain": [
       "     n     x_(n)        f(x_n)  x_(n) - x_(n-1)   x_(n+1)\n",
       "0  0.0  2.000000 -9.070257e-02         0.000000  0.000000\n",
       "1  1.0  1.000000  8.414710e-01        -1.000000  1.902698\n",
       "2  2.0  1.902698  4.272672e-02         0.902698  1.950985\n",
       "3  3.0  1.950985 -2.239065e-02         0.048287  1.934382\n",
       "4  4.0  1.934382  2.462931e-04        -0.016604  1.934562\n",
       "5  5.0  1.934562  1.383453e-06         0.000181  1.934563\n",
       "6  6.0  1.934563 -8.663037e-11         0.000001  1.934563"
      ]
     },
     "execution_count": 29,
     "metadata": {
      "tags": []
     },
     "output_type": "execute_result"
    }
   ],
   "source": [
    "f = lambda x: 1 -x + np.sin(x)\n",
    "print(\"Same Side\")\n",
    "table = secantMethod(f, 2, 1)\n",
    "plt.stem(table['n'], table['f(x_n)'])\n",
    "plt.grid(True)\n",
    "plt.show()\n",
    "table"
   ]
  },
  {
   "cell_type": "code",
   "execution_count": 30,
   "metadata": {
    "colab": {
     "base_uri": "https://localhost:8080/",
     "height": 582
    },
    "colab_type": "code",
    "executionInfo": {
     "elapsed": 1062,
     "status": "ok",
     "timestamp": 1536410935540,
     "user": {
      "displayName": "Rutvik Shah",
      "photoUrl": "//lh6.googleusercontent.com/-WiC1AJ8O0NA/AAAAAAAAAAI/AAAAAAAACWk/V38QQR5ypvQ/s50-c-k-no/photo.jpg",
      "userId": "106338664803916304984"
     },
     "user_tz": -330
    },
    "id": "G3j9zBmispwe",
    "outputId": "83b6b3de-5af2-4c12-d52e-b86c8e9aaf80"
   },
   "outputs": [
    {
     "name": "stdout",
     "output_type": "stream",
     "text": [
      "Opposite Side\n"
     ]
    },
    {
     "data": {
      "image/png": "[encoded data removed]",
      "text/plain": [
       "<matplotlib.figure.Figure at 0x7f52f25c42b0>"
      ]
     },
     "metadata": {
      "tags": []
     },
     "output_type": "display_data"
    },
    {
     "data": {
      "text/html": [
       "<div>\n",
       "<style scoped>\n",
       "    .dataframe tbody tr th:only-of-type {\n",
       "        vertical-align: middle;\n",
       "    }\n",
       "\n",
       "    .dataframe tbody tr th {\n",
       "        vertical-align: top;\n",
       "    }\n",
       "\n",
       "    .dataframe thead th {\n",
       "        text-align: right;\n",
       "    }\n",
       "</style>\n",
       "<table border=\"1\" class=\"dataframe\">\n",
       "  <thead>\n",
       "    <tr style=\"text-align: right;\">\n",
       "      <th></th>\n",
       "      <th>n</th>\n",
       "      <th>x_(n)</th>\n",
       "      <th>f(x_n)</th>\n",
       "      <th>x_(n) - x_(n-1)</th>\n",
       "      <th>x_(n+1)</th>\n",
       "    </tr>\n",
       "  </thead>\n",
       "  <tbody>\n",
       "    <tr>\n",
       "      <th>0</th>\n",
       "      <td>0.0</td>\n",
       "      <td>4.000000</td>\n",
       "      <td>2.842179</td>\n",
       "      <td>0.000000</td>\n",
       "      <td>0.000000</td>\n",
       "    </tr>\n",
       "    <tr>\n",
       "      <th>1</th>\n",
       "      <td>1.0</td>\n",
       "      <td>4.500000</td>\n",
       "      <td>-0.137332</td>\n",
       "      <td>0.500000</td>\n",
       "      <td>4.476954</td>\n",
       "    </tr>\n",
       "    <tr>\n",
       "      <th>2</th>\n",
       "      <td>2.0</td>\n",
       "      <td>4.476954</td>\n",
       "      <td>0.308268</td>\n",
       "      <td>-0.023046</td>\n",
       "      <td>4.492897</td>\n",
       "    </tr>\n",
       "    <tr>\n",
       "      <th>3</th>\n",
       "      <td>3.0</td>\n",
       "      <td>4.492897</td>\n",
       "      <td>0.010316</td>\n",
       "      <td>0.015943</td>\n",
       "      <td>4.493449</td>\n",
       "    </tr>\n",
       "    <tr>\n",
       "      <th>4</th>\n",
       "      <td>4.0</td>\n",
       "      <td>4.493449</td>\n",
       "      <td>-0.000805</td>\n",
       "      <td>0.000552</td>\n",
       "      <td>4.493409</td>\n",
       "    </tr>\n",
       "    <tr>\n",
       "      <th>5</th>\n",
       "      <td>5.0</td>\n",
       "      <td>4.493409</td>\n",
       "      <td>0.000002</td>\n",
       "      <td>-0.000040</td>\n",
       "      <td>4.493409</td>\n",
       "    </tr>\n",
       "  </tbody>\n",
       "</table>\n",
       "</div>"
      ],
      "text/plain": [
       "     n     x_(n)    f(x_n)  x_(n) - x_(n-1)   x_(n+1)\n",
       "0  0.0  4.000000  2.842179         0.000000  0.000000\n",
       "1  1.0  4.500000 -0.137332         0.500000  4.476954\n",
       "2  2.0  4.476954  0.308268        -0.023046  4.492897\n",
       "3  3.0  4.492897  0.010316         0.015943  4.493449\n",
       "4  4.0  4.493449 -0.000805         0.000552  4.493409\n",
       "5  5.0  4.493409  0.000002        -0.000040  4.493409"
      ]
     },
     "execution_count": 30,
     "metadata": {
      "tags": []
     },
     "output_type": "execute_result"
    }
   ],
   "source": [
    "f = lambda x: x - np.tan(x)\n",
    "print(\"Opposite Side\")\n",
    "table = secantMethod(f, 4, 4.5)\n",
    "plt.stem(table['n'], table['f(x_n)'])\n",
    "plt.grid(True)\n",
    "plt.show()\n",
    "table"
   ]
  },
  {
   "cell_type": "code",
   "execution_count": 26,
   "metadata": {
    "colab": {
     "base_uri": "https://localhost:8080/",
     "height": 1463
    },
    "colab_type": "code",
    "executionInfo": {
     "elapsed": 2024,
     "status": "ok",
     "timestamp": 1536401699428,
     "user": {
      "displayName": "Smit Shah",
      "photoUrl": "//lh5.googleusercontent.com/-nzD5XxUjG-Q/AAAAAAAAAAI/AAAAAAAACQI/U746A95F7Os/s50-c-k-no/photo.jpg",
      "userId": "105550165775721376813"
     },
     "user_tz": -330
    },
    "id": "N4Kd5TGzspwg",
    "outputId": "b9d1de8f-5c21-4061-caf1-cd1a82e59461"
   },
   "outputs": [
    {
     "name": "stdout",
     "output_type": "stream",
     "text": [
      "Same Side\n"
     ]
    },
    {
     "data": {
      "image/png": "[encoded data removed]",
      "text/plain": [
       "<matplotlib.figure.Figure at 0x7fac3fdc2908>"
      ]
     },
     "metadata": {
      "tags": []
     },
     "output_type": "display_data"
    },
    {
     "data": {
      "text/html": [
       "<div>\n",
       "<style scoped>\n",
       "    .dataframe tbody tr th:only-of-type {\n",
       "        vertical-align: middle;\n",
       "    }\n",
       "\n",
       "    .dataframe tbody tr th {\n",
       "        vertical-align: top;\n",
       "    }\n",
       "\n",
       "    .dataframe thead th {\n",
       "        text-align: right;\n",
       "    }\n",
       "</style>\n",
       "<table border=\"1\" class=\"dataframe\">\n",
       "  <thead>\n",
       "    <tr style=\"text-align: right;\">\n",
       "      <th></th>\n",
       "      <th>n</th>\n",
       "      <th>x_(n)</th>\n",
       "      <th>f(x_n)</th>\n",
       "      <th>x_(n) - x_(n-1)</th>\n",
       "      <th>x_(n+1)</th>\n",
       "    </tr>\n",
       "  </thead>\n",
       "  <tbody>\n",
       "    <tr>\n",
       "      <th>0</th>\n",
       "      <td>0.0</td>\n",
       "      <td>4.000000</td>\n",
       "      <td>2.842179e+00</td>\n",
       "      <td>0.000000</td>\n",
       "      <td>0.000000</td>\n",
       "    </tr>\n",
       "    <tr>\n",
       "      <th>1</th>\n",
       "      <td>1.0</td>\n",
       "      <td>4.250000</td>\n",
       "      <td>2.243691e+00</td>\n",
       "      <td>0.250000</td>\n",
       "      <td>5.187233</td>\n",
       "    </tr>\n",
       "    <tr>\n",
       "      <th>2</th>\n",
       "      <td>2.0</td>\n",
       "      <td>5.187233</td>\n",
       "      <td>7.132473e+00</td>\n",
       "      <td>0.937233</td>\n",
       "      <td>3.819860</td>\n",
       "    </tr>\n",
       "    <tr>\n",
       "      <th>3</th>\n",
       "      <td>3.0</td>\n",
       "      <td>3.819860</td>\n",
       "      <td>3.014061e+00</td>\n",
       "      <td>-1.367374</td>\n",
       "      <td>2.819147</td>\n",
       "    </tr>\n",
       "    <tr>\n",
       "      <th>4</th>\n",
       "      <td>4.0</td>\n",
       "      <td>2.819147</td>\n",
       "      <td>3.153253e+00</td>\n",
       "      <td>-1.000713</td>\n",
       "      <td>25.489218</td>\n",
       "    </tr>\n",
       "    <tr>\n",
       "      <th>5</th>\n",
       "      <td>5.0</td>\n",
       "      <td>25.489218</td>\n",
       "      <td>2.511683e+01</td>\n",
       "      <td>22.670071</td>\n",
       "      <td>-0.435535</td>\n",
       "    </tr>\n",
       "    <tr>\n",
       "      <th>6</th>\n",
       "      <td>6.0</td>\n",
       "      <td>-0.435535</td>\n",
       "      <td>2.980231e-02</td>\n",
       "      <td>-25.924753</td>\n",
       "      <td>-0.466332</td>\n",
       "    </tr>\n",
       "    <tr>\n",
       "      <th>7</th>\n",
       "      <td>7.0</td>\n",
       "      <td>-0.466332</td>\n",
       "      <td>3.702810e-02</td>\n",
       "      <td>-0.030797</td>\n",
       "      <td>-0.308513</td>\n",
       "    </tr>\n",
       "    <tr>\n",
       "      <th>8</th>\n",
       "      <td>8.0</td>\n",
       "      <td>-0.308513</td>\n",
       "      <td>1.017566e-02</td>\n",
       "      <td>0.157820</td>\n",
       "      <td>-0.248707</td>\n",
       "    </tr>\n",
       "    <tr>\n",
       "      <th>9</th>\n",
       "      <td>9.0</td>\n",
       "      <td>-0.248707</td>\n",
       "      <td>5.258085e-03</td>\n",
       "      <td>0.059805</td>\n",
       "      <td>-0.184761</td>\n",
       "    </tr>\n",
       "    <tr>\n",
       "      <th>10</th>\n",
       "      <td>10.0</td>\n",
       "      <td>-0.184761</td>\n",
       "      <td>2.131472e-03</td>\n",
       "      <td>0.063946</td>\n",
       "      <td>-0.141167</td>\n",
       "    </tr>\n",
       "    <tr>\n",
       "      <th>11</th>\n",
       "      <td>11.0</td>\n",
       "      <td>-0.141167</td>\n",
       "      <td>9.452703e-04</td>\n",
       "      <td>0.043594</td>\n",
       "      <td>-0.106428</td>\n",
       "    </tr>\n",
       "    <tr>\n",
       "      <th>12</th>\n",
       "      <td>12.0</td>\n",
       "      <td>-0.106428</td>\n",
       "      <td>4.036627e-04</td>\n",
       "      <td>0.034739</td>\n",
       "      <td>-0.080537</td>\n",
       "    </tr>\n",
       "    <tr>\n",
       "      <th>13</th>\n",
       "      <td>13.0</td>\n",
       "      <td>-0.080537</td>\n",
       "      <td>1.745777e-04</td>\n",
       "      <td>0.025891</td>\n",
       "      <td>-0.060806</td>\n",
       "    </tr>\n",
       "    <tr>\n",
       "      <th>14</th>\n",
       "      <td>14.0</td>\n",
       "      <td>-0.060806</td>\n",
       "      <td>7.505129e-05</td>\n",
       "      <td>0.019731</td>\n",
       "      <td>-0.045927</td>\n",
       "    </tr>\n",
       "    <tr>\n",
       "      <th>15</th>\n",
       "      <td>15.0</td>\n",
       "      <td>-0.045927</td>\n",
       "      <td>3.231871e-05</td>\n",
       "      <td>0.014879</td>\n",
       "      <td>-0.034674</td>\n",
       "    </tr>\n",
       "    <tr>\n",
       "      <th>16</th>\n",
       "      <td>16.0</td>\n",
       "      <td>-0.034674</td>\n",
       "      <td>1.390315e-05</td>\n",
       "      <td>0.011253</td>\n",
       "      <td>-0.026179</td>\n",
       "    </tr>\n",
       "    <tr>\n",
       "      <th>17</th>\n",
       "      <td>17.0</td>\n",
       "      <td>-0.026179</td>\n",
       "      <td>5.982058e-06</td>\n",
       "      <td>0.008495</td>\n",
       "      <td>-0.019763</td>\n",
       "    </tr>\n",
       "    <tr>\n",
       "      <th>18</th>\n",
       "      <td>18.0</td>\n",
       "      <td>-0.019763</td>\n",
       "      <td>2.573396e-06</td>\n",
       "      <td>0.006416</td>\n",
       "      <td>-0.014919</td>\n",
       "    </tr>\n",
       "    <tr>\n",
       "      <th>19</th>\n",
       "      <td>19.0</td>\n",
       "      <td>-0.014919</td>\n",
       "      <td>1.107044e-06</td>\n",
       "      <td>0.004844</td>\n",
       "      <td>-0.011263</td>\n",
       "    </tr>\n",
       "    <tr>\n",
       "      <th>20</th>\n",
       "      <td>20.0</td>\n",
       "      <td>-0.011263</td>\n",
       "      <td>4.762179e-07</td>\n",
       "      <td>0.003657</td>\n",
       "      <td>-0.008502</td>\n",
       "    </tr>\n",
       "    <tr>\n",
       "      <th>21</th>\n",
       "      <td>21.0</td>\n",
       "      <td>-0.008502</td>\n",
       "      <td>2.048537e-07</td>\n",
       "      <td>0.002761</td>\n",
       "      <td>-0.006418</td>\n",
       "    </tr>\n",
       "    <tr>\n",
       "      <th>22</th>\n",
       "      <td>22.0</td>\n",
       "      <td>-0.006418</td>\n",
       "      <td>8.812060e-08</td>\n",
       "      <td>0.002084</td>\n",
       "      <td>-0.004845</td>\n",
       "    </tr>\n",
       "    <tr>\n",
       "      <th>23</th>\n",
       "      <td>23.0</td>\n",
       "      <td>-0.004845</td>\n",
       "      <td>3.790615e-08</td>\n",
       "      <td>0.001573</td>\n",
       "      <td>-0.003657</td>\n",
       "    </tr>\n",
       "    <tr>\n",
       "      <th>24</th>\n",
       "      <td>24.0</td>\n",
       "      <td>-0.003657</td>\n",
       "      <td>1.630575e-08</td>\n",
       "      <td>0.001188</td>\n",
       "      <td>-0.002761</td>\n",
       "    </tr>\n",
       "    <tr>\n",
       "      <th>25</th>\n",
       "      <td>25.0</td>\n",
       "      <td>-0.002761</td>\n",
       "      <td>7.014090e-09</td>\n",
       "      <td>0.000896</td>\n",
       "      <td>-0.002084</td>\n",
       "    </tr>\n",
       "    <tr>\n",
       "      <th>26</th>\n",
       "      <td>26.0</td>\n",
       "      <td>-0.002084</td>\n",
       "      <td>3.017182e-09</td>\n",
       "      <td>0.000677</td>\n",
       "      <td>-0.001573</td>\n",
       "    </tr>\n",
       "    <tr>\n",
       "      <th>27</th>\n",
       "      <td>27.0</td>\n",
       "      <td>-0.001573</td>\n",
       "      <td>1.297871e-09</td>\n",
       "      <td>0.000511</td>\n",
       "      <td>-0.001188</td>\n",
       "    </tr>\n",
       "    <tr>\n",
       "      <th>28</th>\n",
       "      <td>28.0</td>\n",
       "      <td>-0.001188</td>\n",
       "      <td>5.582920e-10</td>\n",
       "      <td>0.000386</td>\n",
       "      <td>-0.000896</td>\n",
       "    </tr>\n",
       "    <tr>\n",
       "      <th>29</th>\n",
       "      <td>29.0</td>\n",
       "      <td>-0.000896</td>\n",
       "      <td>2.401548e-10</td>\n",
       "      <td>0.000291</td>\n",
       "      <td>-0.000677</td>\n",
       "    </tr>\n",
       "    <tr>\n",
       "      <th>30</th>\n",
       "      <td>30.0</td>\n",
       "      <td>-0.000677</td>\n",
       "      <td>1.033049e-10</td>\n",
       "      <td>0.000220</td>\n",
       "      <td>-0.000511</td>\n",
       "    </tr>\n",
       "    <tr>\n",
       "      <th>31</th>\n",
       "      <td>31.0</td>\n",
       "      <td>-0.000511</td>\n",
       "      <td>4.443761e-11</td>\n",
       "      <td>0.000166</td>\n",
       "      <td>-0.000386</td>\n",
       "    </tr>\n",
       "    <tr>\n",
       "      <th>32</th>\n",
       "      <td>32.0</td>\n",
       "      <td>-0.000386</td>\n",
       "      <td>1.911527e-11</td>\n",
       "      <td>0.000125</td>\n",
       "      <td>-0.000291</td>\n",
       "    </tr>\n",
       "    <tr>\n",
       "      <th>33</th>\n",
       "      <td>33.0</td>\n",
       "      <td>-0.000291</td>\n",
       "      <td>8.222620e-12</td>\n",
       "      <td>0.000095</td>\n",
       "      <td>-0.000220</td>\n",
       "    </tr>\n",
       "  </tbody>\n",
       "</table>\n",
       "</div>"
      ],
      "text/plain": [
       "       n      x_(n)        f(x_n)  x_(n) - x_(n-1)    x_(n+1)\n",
       "0    0.0   4.000000  2.842179e+00         0.000000   0.000000\n",
       "1    1.0   4.250000  2.243691e+00         0.250000   5.187233\n",
       "2    2.0   5.187233  7.132473e+00         0.937233   3.819860\n",
       "3    3.0   3.819860  3.014061e+00        -1.367374   2.819147\n",
       "4    4.0   2.819147  3.153253e+00        -1.000713  25.489218\n",
       "5    5.0  25.489218  2.511683e+01        22.670071  -0.435535\n",
       "6    6.0  -0.435535  2.980231e-02       -25.924753  -0.466332\n",
       "7    7.0  -0.466332  3.702810e-02        -0.030797  -0.308513\n",
       "8    8.0  -0.308513  1.017566e-02         0.157820  -0.248707\n",
       "9    9.0  -0.248707  5.258085e-03         0.059805  -0.184761\n",
       "10  10.0  -0.184761  2.131472e-03         0.063946  -0.141167\n",
       "11  11.0  -0.141167  9.452703e-04         0.043594  -0.106428\n",
       "12  12.0  -0.106428  4.036627e-04         0.034739  -0.080537\n",
       "13  13.0  -0.080537  1.745777e-04         0.025891  -0.060806\n",
       "14  14.0  -0.060806  7.505129e-05         0.019731  -0.045927\n",
       "15  15.0  -0.045927  3.231871e-05         0.014879  -0.034674\n",
       "16  16.0  -0.034674  1.390315e-05         0.011253  -0.026179\n",
       "17  17.0  -0.026179  5.982058e-06         0.008495  -0.019763\n",
       "18  18.0  -0.019763  2.573396e-06         0.006416  -0.014919\n",
       "19  19.0  -0.014919  1.107044e-06         0.004844  -0.011263\n",
       "20  20.0  -0.011263  4.762179e-07         0.003657  -0.008502\n",
       "21  21.0  -0.008502  2.048537e-07         0.002761  -0.006418\n",
       "22  22.0  -0.006418  8.812060e-08         0.002084  -0.004845\n",
       "23  23.0  -0.004845  3.790615e-08         0.001573  -0.003657\n",
       "24  24.0  -0.003657  1.630575e-08         0.001188  -0.002761\n",
       "25  25.0  -0.002761  7.014090e-09         0.000896  -0.002084\n",
       "26  26.0  -0.002084  3.017182e-09         0.000677  -0.001573\n",
       "27  27.0  -0.001573  1.297871e-09         0.000511  -0.001188\n",
       "28  28.0  -0.001188  5.582920e-10         0.000386  -0.000896\n",
       "29  29.0  -0.000896  2.401548e-10         0.000291  -0.000677\n",
       "30  30.0  -0.000677  1.033049e-10         0.000220  -0.000511\n",
       "31  31.0  -0.000511  4.443761e-11         0.000166  -0.000386\n",
       "32  32.0  -0.000386  1.911527e-11         0.000125  -0.000291\n",
       "33  33.0  -0.000291  8.222620e-12         0.000095  -0.000220"
      ]
     },
     "execution_count": 26,
     "metadata": {
      "tags": []
     },
     "output_type": "execute_result"
    }
   ],
   "source": [
    "f = lambda x: x - np.tan(x)\n",
    "print(\"Same Side\")\n",
    "table = secantMethod(f, 4, 4.25)\n",
    "plt.stem(table['n'], table['f(x_n)'])\n",
    "plt.grid(True)\n",
    "plt.show()\n",
    "table"
   ]
  },
  {
   "cell_type": "code",
   "execution_count": 27,
   "metadata": {
    "colab": {
     "base_uri": "https://localhost:8080/",
     "height": 554
    },
    "colab_type": "code",
    "executionInfo": {
     "elapsed": 2712,
     "status": "ok",
     "timestamp": 1536401702289,
     "user": {
      "displayName": "Smit Shah",
      "photoUrl": "//lh5.googleusercontent.com/-nzD5XxUjG-Q/AAAAAAAAAAI/AAAAAAAACQI/U746A95F7Os/s50-c-k-no/photo.jpg",
      "userId": "105550165775721376813"
     },
     "user_tz": -330
    },
    "id": "tacgW4e6spwh",
    "outputId": "38e179bc-385b-4fca-eec3-25fb064bf92f"
   },
   "outputs": [
    {
     "name": "stdout",
     "output_type": "stream",
     "text": [
      "Same Side\n"
     ]
    },
    {
     "data": {
      "image/png": "[encoded data removed]",
      "text/plain": [
       "<matplotlib.figure.Figure at 0x7fac3fbe8978>"
      ]
     },
     "metadata": {
      "tags": []
     },
     "output_type": "display_data"
    },
    {
     "data": {
      "text/html": [
       "<div>\n",
       "<style scoped>\n",
       "    .dataframe tbody tr th:only-of-type {\n",
       "        vertical-align: middle;\n",
       "    }\n",
       "\n",
       "    .dataframe tbody tr th {\n",
       "        vertical-align: top;\n",
       "    }\n",
       "\n",
       "    .dataframe thead th {\n",
       "        text-align: right;\n",
       "    }\n",
       "</style>\n",
       "<table border=\"1\" class=\"dataframe\">\n",
       "  <thead>\n",
       "    <tr style=\"text-align: right;\">\n",
       "      <th></th>\n",
       "      <th>n</th>\n",
       "      <th>x_(n)</th>\n",
       "      <th>f(x_n)</th>\n",
       "      <th>x_(n) - x_(n-1)</th>\n",
       "      <th>x_(n+1)</th>\n",
       "    </tr>\n",
       "  </thead>\n",
       "  <tbody>\n",
       "    <tr>\n",
       "      <th>0</th>\n",
       "      <td>0.0</td>\n",
       "      <td>5.000000</td>\n",
       "      <td>8.380515e+00</td>\n",
       "      <td>0.000000e+00</td>\n",
       "      <td>0.000000</td>\n",
       "    </tr>\n",
       "    <tr>\n",
       "      <th>1</th>\n",
       "      <td>1.0</td>\n",
       "      <td>6.000000</td>\n",
       "      <td>6.291006e+00</td>\n",
       "      <td>1.000000e+00</td>\n",
       "      <td>9.010758</td>\n",
       "    </tr>\n",
       "    <tr>\n",
       "      <th>2</th>\n",
       "      <td>2.0</td>\n",
       "      <td>9.010758</td>\n",
       "      <td>9.450177e+00</td>\n",
       "      <td>3.010758e+00</td>\n",
       "      <td>0.004534</td>\n",
       "    </tr>\n",
       "    <tr>\n",
       "      <th>3</th>\n",
       "      <td>3.0</td>\n",
       "      <td>0.004534</td>\n",
       "      <td>-3.107370e-08</td>\n",
       "      <td>-9.006224e+00</td>\n",
       "      <td>0.004534</td>\n",
       "    </tr>\n",
       "    <tr>\n",
       "      <th>4</th>\n",
       "      <td>4.0</td>\n",
       "      <td>0.004534</td>\n",
       "      <td>-3.107431e-08</td>\n",
       "      <td>2.961391e-08</td>\n",
       "      <td>0.003023</td>\n",
       "    </tr>\n",
       "  </tbody>\n",
       "</table>\n",
       "</div>"
      ],
      "text/plain": [
       "     n     x_(n)        f(x_n)  x_(n) - x_(n-1)   x_(n+1)\n",
       "0  0.0  5.000000  8.380515e+00     0.000000e+00  0.000000\n",
       "1  1.0  6.000000  6.291006e+00     1.000000e+00  9.010758\n",
       "2  2.0  9.010758  9.450177e+00     3.010758e+00  0.004534\n",
       "3  3.0  0.004534 -3.107370e-08    -9.006224e+00  0.004534\n",
       "4  4.0  0.004534 -3.107431e-08     2.961391e-08  0.003023"
      ]
     },
     "execution_count": 27,
     "metadata": {
      "tags": []
     },
     "output_type": "execute_result"
    }
   ],
   "source": [
    "f = lambda x: x - np.tan(x)\n",
    "print(\"Same Side\")\n",
    "table = secantMethod(f, 5, 6)\n",
    "plt.stem(table['n'], table['f(x_n)'])\n",
    "plt.grid(True)\n",
    "plt.show()\n",
    "table"
   ]
  }
 ],
 "metadata": {
  "colab": {
   "name": "Secant_Method.ipynb",
   "provenance": [],
   "version": "0.3.2"
  },
  "kernelspec": {
   "display_name": "Python 3",
   "language": "python",
   "name": "python3"
  },
  "language_info": {
   "codemirror_mode": {
    "name": "ipython",
    "version": 3
   },
   "file_extension": ".py",
   "mimetype": "text/x-python",
   "name": "python",
   "nbconvert_exporter": "python",
   "pygments_lexer": "ipython3",
   "version": "3.6.5"
  }
 },
 "nbformat": 4,
 "nbformat_minor": 1
}
